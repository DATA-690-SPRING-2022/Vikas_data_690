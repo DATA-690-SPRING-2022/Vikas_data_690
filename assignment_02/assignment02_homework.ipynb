{
  "nbformat": 4,
  "nbformat_minor": 0,
  "metadata": {
    "colab": {
      "name": "assignment02_homework.ipynb",
      "provenance": [],
      "authorship_tag": "ABX9TyNhssqsiC4cFIbWCB6sGYIo",
      "include_colab_link": true
    },
    "kernelspec": {
      "name": "python3",
      "display_name": "Python 3"
    },
    "language_info": {
      "name": "python"
    }
  },
  "cells": [
    {
      "cell_type": "markdown",
      "metadata": {
        "id": "view-in-github",
        "colab_type": "text"
      },
      "source": [
        "<a href=\"https://colab.research.google.com/github/saivikaskondamidi/Vikas_data_690/blob/main/assignment_02/assignment02_homework.ipynb\" target=\"_parent\"><img src=\"https://colab.research.google.com/assets/colab-badge.svg\" alt=\"Open In Colab\"/></a>"
      ]
    },
    {
      "cell_type": "markdown",
      "source": [
        "## Challenge 1: Prompt a user to enter 10 integers"
      ],
      "metadata": {
        "id": "qTqnoqt_ctKk"
      }
    },
    {
      "cell_type": "code",
      "source": [
        "required_list = []\n",
        "\n",
        "for i in range(10):\n",
        "  while True:\n",
        "    a=input(\"enter an integer:\")\n",
        "    try:\n",
        "      b = int(a)\n",
        "      required_list.append(b)\n",
        "      print(b, \"is an integer\")\n",
        "      break\n",
        "    except:\n",
        "      print(\"It is not an integer, please enter a digit\") \n",
        "\n",
        "print(\"the list of integers are:\", required_list)\n"
      ],
      "metadata": {
        "colab": {
          "base_uri": "https://localhost:8080/"
        },
        "id": "DYWR97nvc71z",
        "outputId": "5039b810-42db-48da-f03c-88de3cb72654"
      },
      "execution_count": 10,
      "outputs": [
        {
          "output_type": "stream",
          "name": "stdout",
          "text": [
            "enter an integer:hello\n",
            "It is not an integer, please enter a digit\n",
            "enter an integer:umbc@1\n",
            "It is not an integer, please enter a digit\n",
            "enter an integer:98\n",
            "98 is an integer\n",
            "enter an integer:87\n",
            "87 is an integer\n",
            "enter an integer:76\n",
            "76 is an integer\n",
            "enter an integer:65\n",
            "65 is an integer\n",
            "enter an integer:54\n",
            "54 is an integer\n",
            "enter an integer:43\n",
            "43 is an integer\n",
            "enter an integer:32\n",
            "32 is an integer\n",
            "enter an integer:21\n",
            "21 is an integer\n",
            "enter an integer:11\n",
            "11 is an integer\n",
            "enter an integer:0\n",
            "0 is an integer\n",
            "the list of integers are: [98, 87, 76, 65, 54, 43, 32, 21, 11, 0]\n"
          ]
        }
      ]
    },
    {
      "cell_type": "markdown",
      "source": [
        "## Challenge 2 : Minimum"
      ],
      "metadata": {
        "id": "RRfF554eg-1L"
      }
    },
    {
      "cell_type": "code",
      "source": [
        "min = required_list[0]\n",
        "for i in range(len(required_list)):\n",
        "    if required_list[i]<min:\n",
        "      min = required_list[i]\n",
        "print(\"the minimum integer is\", min)"
      ],
      "metadata": {
        "colab": {
          "base_uri": "https://localhost:8080/"
        },
        "id": "C3ZyN_wlhGkh",
        "outputId": "25702e80-f4a0-4a9e-d199-aff93b582129"
      },
      "execution_count": 15,
      "outputs": [
        {
          "output_type": "stream",
          "name": "stdout",
          "text": [
            "the minimum integer is 0\n"
          ]
        }
      ]
    },
    {
      "cell_type": "markdown",
      "source": [
        "## Challenge 3 : Maximum"
      ],
      "metadata": {
        "id": "n4w4ZNxUhpgl"
      }
    },
    {
      "cell_type": "code",
      "source": [
        "max = required_list[0]\n",
        "for i in range(len(required_list)):\n",
        "    if required_list[i]>max:\n",
        "      max = required_list[i]\n",
        "print(\"the maximum integer is\", max)"
      ],
      "metadata": {
        "colab": {
          "base_uri": "https://localhost:8080/"
        },
        "id": "KKL82E5Rhucs",
        "outputId": "a25511c7-eb09-4a85-a0bf-76931dede06d"
      },
      "execution_count": 16,
      "outputs": [
        {
          "output_type": "stream",
          "name": "stdout",
          "text": [
            "the maximum integer is 98\n"
          ]
        }
      ]
    },
    {
      "cell_type": "markdown",
      "source": [
        "## Challenge 4 : Range\n",
        "- range = max-min"
      ],
      "metadata": {
        "id": "kFVVp8bKiahq"
      }
    },
    {
      "cell_type": "code",
      "source": [
        "print(\"Range =\",max - min)"
      ],
      "metadata": {
        "colab": {
          "base_uri": "https://localhost:8080/"
        },
        "id": "yggbPWUmifyA",
        "outputId": "aa88000a-32d7-4122-fa21-e1130291c0ff"
      },
      "execution_count": 17,
      "outputs": [
        {
          "output_type": "stream",
          "name": "stdout",
          "text": [
            "Range = 98\n"
          ]
        }
      ]
    },
    {
      "cell_type": "markdown",
      "source": [
        "## Challenge 5 : Mean\n",
        "- Basically we know the general formula of mean i.e sum of the values/number of values in the list."
      ],
      "metadata": {
        "id": "JTwOQNj1jMNb"
      }
    },
    {
      "cell_type": "code",
      "source": [
        "total = 0\n",
        "x = len(required_list)\n",
        "for i in range(x):\n",
        "  total = total + required_list[i]\n",
        "\n",
        "mean = total / len(required_list)\n",
        "print(\"the mean is :\", mean)"
      ],
      "metadata": {
        "colab": {
          "base_uri": "https://localhost:8080/"
        },
        "id": "a6r9f1xXjoR_",
        "outputId": "5f3c2e03-0b53-4978-bc1d-87068a05bd41"
      },
      "execution_count": 18,
      "outputs": [
        {
          "output_type": "stream",
          "name": "stdout",
          "text": [
            "the mean is : 48.7\n"
          ]
        }
      ]
    },
    {
      "cell_type": "markdown",
      "source": [
        "## Challenge 6 : Variance"
      ],
      "metadata": {
        "id": "6zUZjzMfkjX9"
      }
    },
    {
      "cell_type": "code",
      "source": [
        "var = sum((i - mean) ** 2 for i in required_list) / (len(required_list)-1)\n",
        "print(\"variance is:\",var)"
      ],
      "metadata": {
        "colab": {
          "base_uri": "https://localhost:8080/"
        },
        "id": "2oJ_B8annZPI",
        "outputId": "bde1aea6-fbc9-4872-9f33-da32fc549615"
      },
      "execution_count": 19,
      "outputs": [
        {
          "output_type": "stream",
          "name": "stdout",
          "text": [
            "variance is: 1089.7888888888888\n"
          ]
        }
      ]
    },
    {
      "cell_type": "markdown",
      "source": [
        "## Challenge 7 : Standard Deviation"
      ],
      "metadata": {
        "id": "NEyXzdGAn054"
      }
    },
    {
      "cell_type": "code",
      "source": [
        "std = var ** 0.5\n",
        "print(\"standard deviation is : \",std)"
      ],
      "metadata": {
        "colab": {
          "base_uri": "https://localhost:8080/"
        },
        "id": "Njd4VlS7n5db",
        "outputId": "8c054a3d-f8f7-48ab-aff2-03b232d0ab41"
      },
      "execution_count": 21,
      "outputs": [
        {
          "output_type": "stream",
          "name": "stdout",
          "text": [
            "standard deviation is :  33.01195069802584\n"
          ]
        }
      ]
    }
  ]
}