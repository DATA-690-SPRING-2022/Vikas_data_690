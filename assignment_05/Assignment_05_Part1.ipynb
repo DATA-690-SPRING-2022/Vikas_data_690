{
  "nbformat": 4,
  "nbformat_minor": 0,
  "metadata": {
    "colab": {
      "name": "Assignment_05_Part1.ipynb",
      "provenance": [],
      "authorship_tag": "ABX9TyMIsE9JkrCHtSWzbyYKGXlI",
      "include_colab_link": true
    },
    "kernelspec": {
      "name": "python3",
      "display_name": "Python 3"
    },
    "language_info": {
      "name": "python"
    }
  },
  "cells": [
    {
      "cell_type": "markdown",
      "metadata": {
        "id": "view-in-github",
        "colab_type": "text"
      },
      "source": [
        "<a href=\"https://colab.research.google.com/github/saivikaskondamidi/Vikas_data_690/blob/main/assignment_05/Assignment_05_Part1.ipynb\" target=\"_parent\"><img src=\"https://colab.research.google.com/assets/colab-badge.svg\" alt=\"Open In Colab\"/></a>"
      ]
    },
    {
      "cell_type": "markdown",
      "source": [
        "#Assignment 05\n",
        "- Name: Sai Vikas Kondamidi\n",
        "\n",
        "- Date: 03/04/22\n",
        "\n",
        "\n",
        "\n",
        "**Part 1: What is Data Analysis**"
      ],
      "metadata": {
        "id": "c6KYuwNm3tEU"
      }
    },
    {
      "cell_type": "markdown",
      "source": [
        "A process of inspecting, cleansing, transforming and modeling data with the goal of discovering useful information, informing conclusion and supporting decision-making."
      ],
      "metadata": {
        "id": "Hjk_q4ai4Ini"
      }
    },
    {
      "cell_type": "markdown",
      "source": [
        "**DATA ANALYSIS TOOLS:**\n",
        "\n",
        "- Auto-Managed Closed Tools: Qlik, Tableau, Looker, Zoho Analytics\n",
        "\n",
        "- Programming Languages/Open tools: Python, R, Julia"
      ],
      "metadata": {
        "id": "cemNDvSH4L97"
      }
    },
    {
      "cell_type": "markdown",
      "source": [
        "**Advantages/Disadvantages of Auto-Managed Closed Tools:**\n",
        "\n",
        "- Pros: Easy to learn\n",
        "\n",
        "- cons: Closed source, expensive, limited"
      ],
      "metadata": {
        "id": "Ea_SWoFF4MMW"
      }
    },
    {
      "cell_type": "markdown",
      "source": [
        "**Advantages/Disadvantages of Auto-Managed Closed Tools:**\n",
        "\n",
        "- Pros: Open source, free, extremely powerful\n",
        "\n",
        "- cons: Steep learning curve"
      ],
      "metadata": {
        "id": "QxPSa7Di4MPT"
      }
    },
    {
      "cell_type": "markdown",
      "source": [
        "**Why Python for Data Analysis?**\n",
        "\n",
        "- very simple and intuitive to learn\n",
        "- “correct” language\n",
        "-  powerful libraries (not just for Data Analysis)\n",
        "- free and open source\n",
        "- amazing community, docs and conferences\n"
      ],
      "metadata": {
        "id": "YWqTNCP64MUc"
      }
    },
    {
      "cell_type": "markdown",
      "source": [
        "**When to choose R?**\n",
        "\n",
        "\n",
        "- When R Studio is needed\n",
        "\n",
        "- When dealing with advanced statistical methods\n",
        "\n",
        "- When extreme performance is needed\n",
        "\n"
      ],
      "metadata": {
        "id": "2t5pmFO45giC"
      }
    },
    {
      "cell_type": "markdown",
      "source": [
        "**The Data Analysis Process**\n",
        "\n",
        "- Data Extraction \n",
        "- Data Cleaning\n",
        "-Data Wrangling\n",
        "-Analysis\n",
        "-Action\n"
      ],
      "metadata": {
        "id": "BAFiAjqN5p3f"
      }
    },
    {
      "cell_type": "markdown",
      "source": [
        "**Python Libraries**\n",
        "- pandas: The cornerstone of our Data Analysis job with Python\n",
        "matplotlib: The foundational library for visualizations. Other libraries we’ll use will be built on top of matplotlib.\n",
        "\n",
        "- numpy: The numeric library that serves as the foundation of all calculations in Python.\n",
        "\n",
        "- seaborn: A statistical visualization tool built on top of matplotlib.\n",
        "\n",
        "- statsmodels: A library with many advanced statistical functions.\n",
        "- scipy: Advanced scientific computing, including functions for optimization, linear algebra, image processing and much more.\n",
        "\n",
        "- scikit-learn: The most popular machine learning library for Python (not deep learning)"
      ],
      "metadata": {
        "id": "inAQvPP06EKX"
      }
    },
    {
      "cell_type": "markdown",
      "source": [
        ""
      ],
      "metadata": {
        "id": "BBcHHmI36Vp1"
      }
    }
  ]
}