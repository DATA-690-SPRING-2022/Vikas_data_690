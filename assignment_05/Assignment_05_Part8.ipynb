{
  "nbformat": 4,
  "nbformat_minor": 0,
  "metadata": {
    "colab": {
      "name": "Assignment_05_Part_08.ipynb",
      "provenance": [],
      "include_colab_link": true
    },
    "kernelspec": {
      "name": "python3",
      "display_name": "Python 3"
    },
    "language_info": {
      "name": "python"
    }
  },
  "cells": [
    {
      "cell_type": "markdown",
      "metadata": {
        "id": "view-in-github",
        "colab_type": "text"
      },
      "source": [
        "<a href=\"https://colab.research.google.com/github/saivikaskondamidi/Vikas_data_690/blob/main/assignment_05/Assignment_05_Part8.ipynb\" target=\"_parent\"><img src=\"https://colab.research.google.com/assets/colab-badge.svg\" alt=\"Open In Colab\"/></a>"
      ]
    },
    {
      "cell_type": "markdown",
      "source": [
        "# Assignment 05\n",
        "\n",
        "- Name: Sai Vikas Kondamidi\n",
        "- Date: 03/05/22"
      ],
      "metadata": {
        "id": "8Uby7qocZ6wu"
      }
    },
    {
      "cell_type": "markdown",
      "source": [
        "Python is a interpreted, high level programming language created by Dutch programmer Guido van Rossum and released in 1991.\n",
        "\n",
        "Python is multi-paradigm: you can write code using Object Oriented, Functional and/or Imperative programming. Python is interpreted and uses a dynamic type system, although considered strongly typed."
      ],
      "metadata": {
        "id": "n6rrvLNmx_Ed"
      }
    },
    {
      "cell_type": "markdown",
      "source": [
        "#Indentation based\n",
        "\n",
        "This might feel weird at first, but in Python we do NOT use curly braces to denote blocks of code. We use \"indentation\" instead. This is similar to Ruby. For example, this is a very simple add_numbers function in javascript:\n",
        "\n",
        "function add_numbers(x, y){\n",
        "    return x + y\n",
        "}\n",
        "In Python, we'd write it in this way:"
      ],
      "metadata": {
        "id": "-8HJ-kfxyKm1"
      }
    },
    {
      "cell_type": "code",
      "source": [
        "def add_numbers(x, y):\n",
        "    return x + y"
      ],
      "metadata": {
        "id": "x73fpCK2aEPz"
      },
      "execution_count": 1,
      "outputs": []
    },
    {
      "cell_type": "code",
      "source": [
        "language = \"Python\"\n",
        "\n",
        "if language == \"Python\":\n",
        "    print(\"Let the fun begin!\")\n",
        "else:\n",
        "    print(\"You sure?\")"
      ],
      "metadata": {
        "colab": {
          "base_uri": "https://localhost:8080/"
        },
        "id": "kfqCjjzYbGlI",
        "outputId": "7933ccaf-2fdb-4570-dd78-0773592f9135"
      },
      "execution_count": 2,
      "outputs": [
        {
          "output_type": "stream",
          "name": "stdout",
          "text": [
            "Let the fun begin!\n"
          ]
        }
      ]
    },
    {
      "cell_type": "markdown",
      "source": [
        "#Comments\n"
      ],
      "metadata": {
        "id": "monUCmFEbJuN"
      }
    },
    {
      "cell_type": "code",
      "source": [
        "# this is a comment"
      ],
      "metadata": {
        "id": "0AzhWxFpbXLV"
      },
      "execution_count": 3,
      "outputs": []
    },
    {
      "cell_type": "code",
      "source": [
        "# it doesn't produce any output"
      ],
      "metadata": {
        "id": "xJgz_5o4bYMj"
      },
      "execution_count": 4,
      "outputs": []
    },
    {
      "cell_type": "code",
      "source": [
        "# can be above...\n",
        "print(\"Hello World\")  # next to...\n",
        "# or below your code"
      ],
      "metadata": {
        "colab": {
          "base_uri": "https://localhost:8080/"
        },
        "id": "uwCXxQGRbasM",
        "outputId": "898204cf-a9b3-48a5-c48d-c8c34c02a63c"
      },
      "execution_count": 5,
      "outputs": [
        {
          "output_type": "stream",
          "name": "stdout",
          "text": [
            "Hello World\n"
          ]
        }
      ]
    },
    {
      "cell_type": "markdown",
      "source": [
        "###Variables\n",
        "We've defined a variable language in one of our previous examples. In Python, you can set a variable at any time, in any block of code, by just assigning a valid name to any value you want:"
      ],
      "metadata": {
        "id": "ZfYAOsrtbjYu"
      }
    },
    {
      "cell_type": "code",
      "source": [
        "name = \"Mary\"\n",
        "print(name)"
      ],
      "metadata": {
        "colab": {
          "base_uri": "https://localhost:8080/"
        },
        "id": "fmhswThdb4_n",
        "outputId": "66fa00bc-8e54-4f20-9c91-c736e6c25d63"
      },
      "execution_count": 6,
      "outputs": [
        {
          "output_type": "stream",
          "name": "stdout",
          "text": [
            "Mary\n"
          ]
        }
      ]
    },
    {
      "cell_type": "code",
      "source": [
        "age = 30\n",
        "print(age)"
      ],
      "metadata": {
        "colab": {
          "base_uri": "https://localhost:8080/"
        },
        "id": "1JXjs_Zzb8AZ",
        "outputId": "44166871-5594-4fe6-a145-e193adf73f31"
      },
      "execution_count": 7,
      "outputs": [
        {
          "output_type": "stream",
          "name": "stdout",
          "text": [
            "30\n"
          ]
        }
      ]
    },
    {
      "cell_type": "markdown",
      "source": [
        "Once set, variables are preserved"
      ],
      "metadata": {
        "id": "QS9Q3EXIcA8T"
      }
    },
    {
      "cell_type": "code",
      "source": [
        "print(name, \"is\", age, \"years old\")"
      ],
      "metadata": {
        "colab": {
          "base_uri": "https://localhost:8080/"
        },
        "id": "8fxwQgFVcCvS",
        "outputId": "867bdba4-e8ff-4c73-d463-1917aa8b8b0a"
      },
      "execution_count": 8,
      "outputs": [
        {
          "output_type": "stream",
          "name": "stdout",
          "text": [
            "Mary is 30 years old\n"
          ]
        }
      ]
    },
    {
      "cell_type": "markdown",
      "source": [
        "##Data Types\n",
        "###Integers ,type int:\n",
        "\n",
        "Integers have unlimited magnitude."
      ],
      "metadata": {
        "id": "8xtHLtX9cKTW"
      }
    },
    {
      "cell_type": "code",
      "source": [
        "age = 30"
      ],
      "metadata": {
        "id": "nxxDmp7wcPz0"
      },
      "execution_count": 9,
      "outputs": []
    },
    {
      "cell_type": "code",
      "source": [
        "type(age)"
      ],
      "metadata": {
        "colab": {
          "base_uri": "https://localhost:8080/"
        },
        "id": "hS_IEalTceac",
        "outputId": "4c79e4c9-fc54-43ba-f1ea-e5fbf8c2069d"
      },
      "execution_count": 10,
      "outputs": [
        {
          "output_type": "execute_result",
          "data": {
            "text/plain": [
              "int"
            ]
          },
          "metadata": {},
          "execution_count": 10
        }
      ]
    },
    {
      "cell_type": "markdown",
      "source": [
        "#Floats ,type float\n",
        "\n",
        "The standard floating point number"
      ],
      "metadata": {
        "id": "6_M_SBHScmpR"
      }
    },
    {
      "cell_type": "code",
      "source": [
        "price = 2.50"
      ],
      "metadata": {
        "id": "KUtIywyucrtw"
      },
      "execution_count": 11,
      "outputs": []
    },
    {
      "cell_type": "code",
      "source": [
        "price"
      ],
      "metadata": {
        "colab": {
          "base_uri": "https://localhost:8080/"
        },
        "id": "piEed0sXcvcd",
        "outputId": "71b1df7d-6c41-445a-8e46-bdc04c344022"
      },
      "execution_count": 12,
      "outputs": [
        {
          "output_type": "execute_result",
          "data": {
            "text/plain": [
              "2.5"
            ]
          },
          "metadata": {},
          "execution_count": 12
        }
      ]
    },
    {
      "cell_type": "code",
      "source": [
        "type(price)"
      ],
      "metadata": {
        "colab": {
          "base_uri": "https://localhost:8080/"
        },
        "id": "1VSswRHBcxtf",
        "outputId": "e3f4fbbb-77c2-4e8e-a295-ed50460b15bf"
      },
      "execution_count": 13,
      "outputs": [
        {
          "output_type": "execute_result",
          "data": {
            "text/plain": [
              "float"
            ]
          },
          "metadata": {},
          "execution_count": 13
        }
      ]
    },
    {
      "cell_type": "code",
      "source": [
        "0.1 * 3"
      ],
      "metadata": {
        "colab": {
          "base_uri": "https://localhost:8080/"
        },
        "id": "N6ld8kvkc0Jl",
        "outputId": "b225d4ce-5b00-4276-bc2b-ca11fb0db948"
      },
      "execution_count": 14,
      "outputs": [
        {
          "output_type": "execute_result",
          "data": {
            "text/plain": [
              "0.30000000000000004"
            ]
          },
          "metadata": {},
          "execution_count": 14
        }
      ]
    },
    {
      "cell_type": "code",
      "source": [
        "from decimal import Decimal"
      ],
      "metadata": {
        "id": "h4iKTDWAc3Hz"
      },
      "execution_count": 15,
      "outputs": []
    },
    {
      "cell_type": "code",
      "source": [
        "Decimal('0.1') * 3"
      ],
      "metadata": {
        "colab": {
          "base_uri": "https://localhost:8080/"
        },
        "id": "gnBzgBdHc9Yl",
        "outputId": "1889e8f5-a703-4e4b-9e4c-ebbcf0cf55bc"
      },
      "execution_count": 16,
      "outputs": [
        {
          "output_type": "execute_result",
          "data": {
            "text/plain": [
              "Decimal('0.3')"
            ]
          },
          "metadata": {},
          "execution_count": 16
        }
      ]
    },
    {
      "cell_type": "markdown",
      "source": [
        "#Strings ,type str\n",
        "\n",
        "Strings are used to store text. Technically, they're \"immutable sequences of Unicode code points\". Which means that Python supports Unicode:\n"
      ],
      "metadata": {
        "id": "Uqz6Sw96dBdn"
      }
    },
    {
      "cell_type": "code",
      "source": [
        "print(\"Hello unicode\")"
      ],
      "metadata": {
        "colab": {
          "base_uri": "https://localhost:8080/"
        },
        "id": "5WHktM8fdDoT",
        "outputId": "46776219-1862-4ef0-f529-0c03b9bf9040"
      },
      "execution_count": 17,
      "outputs": [
        {
          "output_type": "stream",
          "name": "stdout",
          "text": [
            "Hello unicode\n"
          ]
        }
      ]
    },
    {
      "cell_type": "code",
      "source": [
        "print('Omelette Du Fromage')"
      ],
      "metadata": {
        "colab": {
          "base_uri": "https://localhost:8080/"
        },
        "id": "V17wDVMWdFqB",
        "outputId": "55d7c5f9-855e-4e10-8350-5def8e541df2"
      },
      "execution_count": 18,
      "outputs": [
        {
          "output_type": "stream",
          "name": "stdout",
          "text": [
            "Omelette Du Fromage\n"
          ]
        }
      ]
    },
    {
      "cell_type": "code",
      "source": [
        "type('Hello World')"
      ],
      "metadata": {
        "colab": {
          "base_uri": "https://localhost:8080/"
        },
        "id": "UpwiP_N1dIdf",
        "outputId": "c4792571-82ec-4387-a715-f03f56512eee"
      },
      "execution_count": 19,
      "outputs": [
        {
          "output_type": "execute_result",
          "data": {
            "text/plain": [
              "str"
            ]
          },
          "metadata": {},
          "execution_count": 19
        }
      ]
    },
    {
      "cell_type": "code",
      "source": [
        "len(\"Hello\")"
      ],
      "metadata": {
        "colab": {
          "base_uri": "https://localhost:8080/"
        },
        "id": "LVTYOycIdLWF",
        "outputId": "6b5c24ba-5e37-4bd6-cb70-56a9f92169c6"
      },
      "execution_count": 20,
      "outputs": [
        {
          "output_type": "execute_result",
          "data": {
            "text/plain": [
              "5"
            ]
          },
          "metadata": {},
          "execution_count": 20
        }
      ]
    },
    {
      "cell_type": "code",
      "source": [
        "joke = \"\"\"\n",
        "Me: What's the best thing about Switzerland?\n",
        "Friend: I don't know. What?\n",
        "Me: I don't know, but the flag is a big plus.\n",
        "F: :(\n",
        "\"\"\"\n",
        "\n",
        "print(joke)"
      ],
      "metadata": {
        "colab": {
          "base_uri": "https://localhost:8080/"
        },
        "id": "4S5xy9eedOCY",
        "outputId": "2632ed2b-74be-4338-8772-e75ce2e6bc1c"
      },
      "execution_count": 21,
      "outputs": [
        {
          "output_type": "stream",
          "name": "stdout",
          "text": [
            "\n",
            "Me: What's the best thing about Switzerland?\n",
            "Friend: I don't know. What?\n",
            "Me: I don't know, but the flag is a big plus.\n",
            "F: :(\n",
            "\n"
          ]
        }
      ]
    },
    {
      "cell_type": "markdown",
      "source": [
        "#Booleans,type bool"
      ],
      "metadata": {
        "id": "IOgQeSvYdTP1"
      }
    },
    {
      "cell_type": "code",
      "source": [
        "True"
      ],
      "metadata": {
        "colab": {
          "base_uri": "https://localhost:8080/"
        },
        "id": "UEg2u55XdW_N",
        "outputId": "c225c6ae-32ba-463d-c7f9-9c6cbe994908"
      },
      "execution_count": 22,
      "outputs": [
        {
          "output_type": "execute_result",
          "data": {
            "text/plain": [
              "True"
            ]
          },
          "metadata": {},
          "execution_count": 22
        }
      ]
    },
    {
      "cell_type": "code",
      "source": [
        "type(False)"
      ],
      "metadata": {
        "colab": {
          "base_uri": "https://localhost:8080/"
        },
        "id": "hBnOuYgidZs4",
        "outputId": "cdc00bd9-75ed-4a21-cfac-340c6b6c5824"
      },
      "execution_count": 23,
      "outputs": [
        {
          "output_type": "execute_result",
          "data": {
            "text/plain": [
              "bool"
            ]
          },
          "metadata": {},
          "execution_count": 23
        }
      ]
    },
    {
      "cell_type": "markdown",
      "source": [
        "#None, type NoneType"
      ],
      "metadata": {
        "id": "T9SPMBJsdd4Z"
      }
    },
    {
      "cell_type": "code",
      "source": [
        "x = None"
      ],
      "metadata": {
        "id": "rAFWGXDrdhKq"
      },
      "execution_count": 24,
      "outputs": []
    },
    {
      "cell_type": "code",
      "source": [
        "x"
      ],
      "metadata": {
        "id": "fW9fEkeKdiyW"
      },
      "execution_count": 25,
      "outputs": []
    },
    {
      "cell_type": "code",
      "source": [
        "print(x)"
      ],
      "metadata": {
        "colab": {
          "base_uri": "https://localhost:8080/"
        },
        "id": "KQP-WnSFdj5n",
        "outputId": "6c43a93e-8104-4d2f-cab3-95f9d5082b76"
      },
      "execution_count": 26,
      "outputs": [
        {
          "output_type": "stream",
          "name": "stdout",
          "text": [
            "None\n"
          ]
        }
      ]
    },
    {
      "cell_type": "code",
      "source": [
        "type(None)"
      ],
      "metadata": {
        "colab": {
          "base_uri": "https://localhost:8080/"
        },
        "id": "xogAKhRGdmxF",
        "outputId": "2a3571da-1299-4b4c-ef0d-806b4100790a"
      },
      "execution_count": 27,
      "outputs": [
        {
          "output_type": "execute_result",
          "data": {
            "text/plain": [
              "NoneType"
            ]
          },
          "metadata": {},
          "execution_count": 27
        }
      ]
    },
    {
      "cell_type": "markdown",
      "source": [
        "#int, float, str, and bool objects and functions"
      ],
      "metadata": {
        "id": "x3FP56APdsxL"
      }
    },
    {
      "cell_type": "code",
      "source": [
        "age_as_string = \"28\"\n"
      ],
      "metadata": {
        "id": "1vpdK7_0duV3"
      },
      "execution_count": 28,
      "outputs": []
    },
    {
      "cell_type": "code",
      "source": [
        "type(age_as_string)"
      ],
      "metadata": {
        "colab": {
          "base_uri": "https://localhost:8080/"
        },
        "id": "a9rhpr2gdwYH",
        "outputId": "ba9d9ac1-60b9-482d-e59c-81a69add833a"
      },
      "execution_count": 29,
      "outputs": [
        {
          "output_type": "execute_result",
          "data": {
            "text/plain": [
              "str"
            ]
          },
          "metadata": {},
          "execution_count": 29
        }
      ]
    },
    {
      "cell_type": "code",
      "source": [
        "int(age_as_string)"
      ],
      "metadata": {
        "colab": {
          "base_uri": "https://localhost:8080/"
        },
        "id": "Ry3-ZGkrd0ff",
        "outputId": "2bbb4ef4-3384-4bff-ce79-4d2644c3382b"
      },
      "execution_count": 30,
      "outputs": [
        {
          "output_type": "execute_result",
          "data": {
            "text/plain": [
              "28"
            ]
          },
          "metadata": {},
          "execution_count": 30
        }
      ]
    },
    {
      "cell_type": "code",
      "source": [
        "age = int(age_as_string)"
      ],
      "metadata": {
        "id": "A6a4OFx8d1pH"
      },
      "execution_count": 31,
      "outputs": []
    },
    {
      "cell_type": "code",
      "source": [
        "type(age)"
      ],
      "metadata": {
        "colab": {
          "base_uri": "https://localhost:8080/"
        },
        "id": "_D-0ASXrd46c",
        "outputId": "bf520595-bf0f-4f54-8dc5-5ffbdba8fb87"
      },
      "execution_count": 32,
      "outputs": [
        {
          "output_type": "execute_result",
          "data": {
            "text/plain": [
              "int"
            ]
          },
          "metadata": {},
          "execution_count": 32
        }
      ]
    },
    {
      "cell_type": "code",
      "source": [
        "type(13) == int"
      ],
      "metadata": {
        "colab": {
          "base_uri": "https://localhost:8080/"
        },
        "id": "cmzPSyogd7B-",
        "outputId": "dca0192c-3d00-4298-e183-978e1948a5e6"
      },
      "execution_count": 33,
      "outputs": [
        {
          "output_type": "execute_result",
          "data": {
            "text/plain": [
              "True"
            ]
          },
          "metadata": {},
          "execution_count": 33
        }
      ]
    },
    {
      "cell_type": "markdown",
      "source": [
        "#Functions"
      ],
      "metadata": {
        "id": "TbSvBzMud9rg"
      }
    },
    {
      "cell_type": "code",
      "source": [
        "def hello():\n",
        "    return \"Hello World\""
      ],
      "metadata": {
        "id": "pOAKU_uvd_2h"
      },
      "execution_count": 34,
      "outputs": []
    },
    {
      "cell_type": "code",
      "source": [
        "result = hello()"
      ],
      "metadata": {
        "id": "7ijr_kGJeGBA"
      },
      "execution_count": 35,
      "outputs": []
    },
    {
      "cell_type": "code",
      "source": [
        "result"
      ],
      "metadata": {
        "colab": {
          "base_uri": "https://localhost:8080/",
          "height": 37
        },
        "id": "XMUTq1BOeHPW",
        "outputId": "333635c7-eb2d-4056-fe3e-bebb67845869"
      },
      "execution_count": 36,
      "outputs": [
        {
          "output_type": "execute_result",
          "data": {
            "application/vnd.google.colaboratory.intrinsic+json": {
              "type": "string"
            },
            "text/plain": [
              "'Hello World'"
            ]
          },
          "metadata": {},
          "execution_count": 36
        }
      ]
    },
    {
      "cell_type": "markdown",
      "source": [
        "#Functions without return statements return None by default"
      ],
      "metadata": {
        "id": "_oLbvak0eM33"
      }
    },
    {
      "cell_type": "code",
      "source": [
        "def empty():\n",
        "    x = 3"
      ],
      "metadata": {
        "id": "C3BF36lneOkr"
      },
      "execution_count": 37,
      "outputs": []
    },
    {
      "cell_type": "code",
      "source": [
        "result= empty()"
      ],
      "metadata": {
        "id": "N_whP22IeQ1g"
      },
      "execution_count": 38,
      "outputs": []
    },
    {
      "cell_type": "code",
      "source": [
        "print(result)"
      ],
      "metadata": {
        "colab": {
          "base_uri": "https://localhost:8080/"
        },
        "id": "h2I8ztCHeS53",
        "outputId": "9ca92fd8-c73a-457d-fd22-51d40323408f"
      },
      "execution_count": 39,
      "outputs": [
        {
          "output_type": "stream",
          "name": "stdout",
          "text": [
            "None\n"
          ]
        }
      ]
    },
    {
      "cell_type": "markdown",
      "source": [
        "###Receiving parameters"
      ],
      "metadata": {
        "id": "8yxz_nh5eWkj"
      }
    },
    {
      "cell_type": "code",
      "source": [
        "def add(x, y):\n",
        "    return x + y\n"
      ],
      "metadata": {
        "id": "rpCn9WITeYQX"
      },
      "execution_count": 40,
      "outputs": []
    },
    {
      "cell_type": "code",
      "source": [
        "add(2, 3)"
      ],
      "metadata": {
        "colab": {
          "base_uri": "https://localhost:8080/"
        },
        "id": "pMPDgpRIea3Y",
        "outputId": "86fb6d5a-0c39-426b-f7c4-7a28c15880c7"
      },
      "execution_count": 41,
      "outputs": [
        {
          "output_type": "execute_result",
          "data": {
            "text/plain": [
              "5"
            ]
          },
          "metadata": {},
          "execution_count": 41
        }
      ]
    },
    {
      "cell_type": "code",
      "source": [
        "def add(*args):\n",
        "    return sum(args)\n"
      ],
      "metadata": {
        "id": "P2h80dnBeeZA"
      },
      "execution_count": 42,
      "outputs": []
    },
    {
      "cell_type": "code",
      "source": [
        "add(1, 1, 1)"
      ],
      "metadata": {
        "colab": {
          "base_uri": "https://localhost:8080/"
        },
        "id": "iYAR6bJpefpj",
        "outputId": "20a13578-36a1-495a-8c32-4cf17d136b13"
      },
      "execution_count": 43,
      "outputs": [
        {
          "output_type": "execute_result",
          "data": {
            "text/plain": [
              "3"
            ]
          },
          "metadata": {},
          "execution_count": 43
        }
      ]
    },
    {
      "cell_type": "code",
      "source": [
        "add(1)"
      ],
      "metadata": {
        "colab": {
          "base_uri": "https://localhost:8080/"
        },
        "id": "QqCiZxghehvi",
        "outputId": "7c5b3302-5af8-44ae-96e1-64d8ff6816f5"
      },
      "execution_count": 44,
      "outputs": [
        {
          "output_type": "execute_result",
          "data": {
            "text/plain": [
              "1"
            ]
          },
          "metadata": {},
          "execution_count": 44
        }
      ]
    },
    {
      "cell_type": "markdown",
      "source": [
        "#Operators\n",
        "##Arithmetic operators"
      ],
      "metadata": {
        "id": "F0UzO224ekLP"
      }
    },
    {
      "cell_type": "code",
      "source": [
        "3 + 3"
      ],
      "metadata": {
        "colab": {
          "base_uri": "https://localhost:8080/"
        },
        "id": "lZvZNZiYem-s",
        "outputId": "c28769a8-aa56-49f3-88a3-53ea0b399ee1"
      },
      "execution_count": 45,
      "outputs": [
        {
          "output_type": "execute_result",
          "data": {
            "text/plain": [
              "6"
            ]
          },
          "metadata": {},
          "execution_count": 45
        }
      ]
    },
    {
      "cell_type": "code",
      "source": [
        "11 % 7"
      ],
      "metadata": {
        "colab": {
          "base_uri": "https://localhost:8080/"
        },
        "id": "a6BgKQ3CeqQZ",
        "outputId": "69d0cfdb-dae2-4a4b-b4d6-ebb0ca48a44b"
      },
      "execution_count": 46,
      "outputs": [
        {
          "output_type": "execute_result",
          "data": {
            "text/plain": [
              "4"
            ]
          },
          "metadata": {},
          "execution_count": 46
        }
      ]
    },
    {
      "cell_type": "code",
      "source": [
        "2 ** 4"
      ],
      "metadata": {
        "colab": {
          "base_uri": "https://localhost:8080/"
        },
        "id": "wbICF5-GetJW",
        "outputId": "2d189652-d6a9-4ca4-d415-d02a5a370689"
      },
      "execution_count": 47,
      "outputs": [
        {
          "output_type": "execute_result",
          "data": {
            "text/plain": [
              "16"
            ]
          },
          "metadata": {},
          "execution_count": 47
        }
      ]
    },
    {
      "cell_type": "markdown",
      "source": [
        "Precedence is similar to normal arithmetic"
      ],
      "metadata": {
        "id": "bTAhdvtgexLW"
      }
    },
    {
      "cell_type": "code",
      "source": [
        "3 + 4 * 5"
      ],
      "metadata": {
        "colab": {
          "base_uri": "https://localhost:8080/"
        },
        "id": "0yZDPo_teyCa",
        "outputId": "6c2e65df-a801-46d7-cb8d-4ccfafce2ea3"
      },
      "execution_count": 48,
      "outputs": [
        {
          "output_type": "execute_result",
          "data": {
            "text/plain": [
              "23"
            ]
          },
          "metadata": {},
          "execution_count": 48
        }
      ]
    },
    {
      "cell_type": "code",
      "source": [
        "3 + 4 * 2**3"
      ],
      "metadata": {
        "colab": {
          "base_uri": "https://localhost:8080/"
        },
        "id": "4RkDSnFwe0I6",
        "outputId": "ee08f031-41e2-43d6-b785-015792cfb856"
      },
      "execution_count": 49,
      "outputs": [
        {
          "output_type": "execute_result",
          "data": {
            "text/plain": [
              "35"
            ]
          },
          "metadata": {},
          "execution_count": 49
        }
      ]
    },
    {
      "cell_type": "markdown",
      "source": [
        "#Boolean operators"
      ],
      "metadata": {
        "id": "QfDhOFeKe3JX"
      }
    },
    {
      "cell_type": "code",
      "source": [
        "7 > 3"
      ],
      "metadata": {
        "colab": {
          "base_uri": "https://localhost:8080/"
        },
        "id": "GG6F_BFJe43h",
        "outputId": "601b5faa-75c4-4971-e5f5-4455a0d3e864"
      },
      "execution_count": 50,
      "outputs": [
        {
          "output_type": "execute_result",
          "data": {
            "text/plain": [
              "True"
            ]
          },
          "metadata": {},
          "execution_count": 50
        }
      ]
    },
    {
      "cell_type": "code",
      "source": [
        "8 >= 8"
      ],
      "metadata": {
        "colab": {
          "base_uri": "https://localhost:8080/"
        },
        "id": "owvNNqv4e6vO",
        "outputId": "c9aba484-31c0-4181-b943-9f69df27110b"
      },
      "execution_count": 51,
      "outputs": [
        {
          "output_type": "execute_result",
          "data": {
            "text/plain": [
              "True"
            ]
          },
          "metadata": {},
          "execution_count": 51
        }
      ]
    },
    {
      "cell_type": "markdown",
      "source": [
        "Python is strongly typed, so different types cannot be compared"
      ],
      "metadata": {
        "id": "-fT704xie-V1"
      }
    },
    {
      "cell_type": "code",
      "source": [
        "8 > \"abc\""
      ],
      "metadata": {
        "colab": {
          "base_uri": "https://localhost:8080/",
          "height": 164
        },
        "id": "x0L9TnZbe_iK",
        "outputId": "3f3dcb28-697d-4359-b422-ff93702e1d05"
      },
      "execution_count": 52,
      "outputs": [
        {
          "output_type": "error",
          "ename": "TypeError",
          "evalue": "ignored",
          "traceback": [
            "\u001b[0;31m---------------------------------------------------------------------------\u001b[0m",
            "\u001b[0;31mTypeError\u001b[0m                                 Traceback (most recent call last)",
            "\u001b[0;32m<ipython-input-52-9f94e2e4c974>\u001b[0m in \u001b[0;36m<module>\u001b[0;34m()\u001b[0m\n\u001b[0;32m----> 1\u001b[0;31m \u001b[0;36m8\u001b[0m \u001b[0;34m>\u001b[0m \u001b[0;34m\"abc\"\u001b[0m\u001b[0;34m\u001b[0m\u001b[0;34m\u001b[0m\u001b[0m\n\u001b[0m",
            "\u001b[0;31mTypeError\u001b[0m: '>' not supported between instances of 'int' and 'str'"
          ]
        }
      ]
    },
    {
      "cell_type": "code",
      "source": [
        "True and True"
      ],
      "metadata": {
        "colab": {
          "base_uri": "https://localhost:8080/"
        },
        "id": "ZxZ-ncVmfEQW",
        "outputId": "7859a155-2f3f-4a4d-869f-83ac3cd96775"
      },
      "execution_count": 53,
      "outputs": [
        {
          "output_type": "execute_result",
          "data": {
            "text/plain": [
              "True"
            ]
          },
          "metadata": {},
          "execution_count": 53
        }
      ]
    },
    {
      "cell_type": "code",
      "source": [
        "not False"
      ],
      "metadata": {
        "colab": {
          "base_uri": "https://localhost:8080/"
        },
        "id": "pyy9jDhifGHQ",
        "outputId": "5cca72f6-2034-414b-b701-6b7bb5423c63"
      },
      "execution_count": 54,
      "outputs": [
        {
          "output_type": "execute_result",
          "data": {
            "text/plain": [
              "True"
            ]
          },
          "metadata": {},
          "execution_count": 54
        }
      ]
    },
    {
      "cell_type": "code",
      "source": [
        "False or True"
      ],
      "metadata": {
        "colab": {
          "base_uri": "https://localhost:8080/"
        },
        "id": "iFVR2wKZfHVy",
        "outputId": "73e30323-fbb9-4dd3-bf5e-9203d39e1a76"
      },
      "execution_count": 55,
      "outputs": [
        {
          "output_type": "execute_result",
          "data": {
            "text/plain": [
              "True"
            ]
          },
          "metadata": {},
          "execution_count": 55
        }
      ]
    },
    {
      "cell_type": "markdown",
      "source": [
        "#Control Flow\n",
        "##If/else/elif statements"
      ],
      "metadata": {
        "id": "CcsMoFdXfL6F"
      }
    },
    {
      "cell_type": "code",
      "source": [
        "days_subscribed = 28\n"
      ],
      "metadata": {
        "id": "ggKWTKpIfPas"
      },
      "execution_count": 56,
      "outputs": []
    },
    {
      "cell_type": "code",
      "source": [
        "if days_subscribed >= 30:\n",
        "    print(\"Loyal customer\")\n",
        "elif days_subscribed >= 15:\n",
        "    print(\"Halfway there\")\n",
        "elif days_subscribed >= 1:\n",
        "    print(\"Builfing confidence\")\n",
        "else:\n",
        "    print(\"Too early\")"
      ],
      "metadata": {
        "colab": {
          "base_uri": "https://localhost:8080/"
        },
        "id": "I5AiFMmZfQK_",
        "outputId": "1ee07900-a5e2-45a4-8ae7-2d20a8611fe6"
      },
      "execution_count": 57,
      "outputs": [
        {
          "output_type": "stream",
          "name": "stdout",
          "text": [
            "Halfway there\n"
          ]
        }
      ]
    },
    {
      "cell_type": "markdown",
      "source": [
        "#For loops"
      ],
      "metadata": {
        "id": "xYDKQfg3fTNT"
      }
    },
    {
      "cell_type": "code",
      "source": [
        "names = ['Monica', 'Ross', 'Chandler', 'Rachel']\n"
      ],
      "metadata": {
        "id": "7oHIlTdTfUim"
      },
      "execution_count": 58,
      "outputs": []
    },
    {
      "cell_type": "code",
      "source": [
        "for name in names:\n",
        "    print(name)"
      ],
      "metadata": {
        "colab": {
          "base_uri": "https://localhost:8080/"
        },
        "id": "4Muk0mCGfXRP",
        "outputId": "9de9f0cf-d8d3-42b0-8b44-a3e5afde859a"
      },
      "execution_count": 59,
      "outputs": [
        {
          "output_type": "stream",
          "name": "stdout",
          "text": [
            "Monica\n",
            "Ross\n",
            "Chandler\n",
            "Rachel\n"
          ]
        }
      ]
    },
    {
      "cell_type": "markdown",
      "source": [
        "#While loops"
      ],
      "metadata": {
        "id": "6gDiJdaJfafS"
      }
    },
    {
      "cell_type": "code",
      "source": [
        "count = 0"
      ],
      "metadata": {
        "id": "Ez5Gd9Ypfb4y"
      },
      "execution_count": 60,
      "outputs": []
    },
    {
      "cell_type": "code",
      "source": [
        "while count < 3:\n",
        "    print(\"Counting...\")\n",
        "    count += 1"
      ],
      "metadata": {
        "colab": {
          "base_uri": "https://localhost:8080/"
        },
        "id": "LeIIs9CMfd3L",
        "outputId": "cbe99cde-baad-44d3-93fa-9238993b40ca"
      },
      "execution_count": 61,
      "outputs": [
        {
          "output_type": "stream",
          "name": "stdout",
          "text": [
            "Counting...\n",
            "Counting...\n",
            "Counting...\n"
          ]
        }
      ]
    },
    {
      "cell_type": "markdown",
      "source": [
        "##Collections\n",
        "\n",
        "ython has multiple versatile collection types, each with different features and capabilities. These are the most common collections we'll explore:\n",
        "\n",
        "Lists\n",
        "Tuples\n",
        "Dictionaries\n",
        "Sets\n",
        "Even though they all have different capabilities, there is one common property to all of them, and it's that Python collections are heterogeneous, that is, you can mix multiple types. That doesn't mean we should mix types, usually it's better to have a consistent collection. But it's still possible.\n",
        "\n",
        "Lists\n",
        "\n",
        "Lists are mutable, ordered sequences. We could argue, the most common collection type"
      ],
      "metadata": {
        "id": "hlatWMBXfg6F"
      }
    },
    {
      "cell_type": "code",
      "source": [
        "l = [3, 'Hello World', True]\n"
      ],
      "metadata": {
        "id": "EZ-niGmffjZi"
      },
      "execution_count": 62,
      "outputs": []
    },
    {
      "cell_type": "code",
      "source": [
        "len(l)"
      ],
      "metadata": {
        "colab": {
          "base_uri": "https://localhost:8080/"
        },
        "id": "YhNRLSpKfmjM",
        "outputId": "b8f5dddf-4b02-4404-e689-c407476d1f69"
      },
      "execution_count": 63,
      "outputs": [
        {
          "output_type": "execute_result",
          "data": {
            "text/plain": [
              "3"
            ]
          },
          "metadata": {},
          "execution_count": 63
        }
      ]
    },
    {
      "cell_type": "code",
      "source": [
        "l[0]"
      ],
      "metadata": {
        "colab": {
          "base_uri": "https://localhost:8080/"
        },
        "id": "GqQOh4AQfpp6",
        "outputId": "2d1cba00-40cd-43b3-f2a2-322c1351c224"
      },
      "execution_count": 64,
      "outputs": [
        {
          "output_type": "execute_result",
          "data": {
            "text/plain": [
              "3"
            ]
          },
          "metadata": {},
          "execution_count": 64
        }
      ]
    },
    {
      "cell_type": "code",
      "source": [
        "l[1]"
      ],
      "metadata": {
        "colab": {
          "base_uri": "https://localhost:8080/",
          "height": 37
        },
        "id": "Qvm59VivfptE",
        "outputId": "014dd7f3-abb8-4d66-e00e-e8fc19f754f1"
      },
      "execution_count": 65,
      "outputs": [
        {
          "output_type": "execute_result",
          "data": {
            "application/vnd.google.colaboratory.intrinsic+json": {
              "type": "string"
            },
            "text/plain": [
              "'Hello World'"
            ]
          },
          "metadata": {},
          "execution_count": 65
        }
      ]
    },
    {
      "cell_type": "code",
      "source": [
        "l[-1]"
      ],
      "metadata": {
        "colab": {
          "base_uri": "https://localhost:8080/"
        },
        "id": "lwRFAkB-fpw6",
        "outputId": "f87ff4c8-92aa-4182-def8-bcb86932b786"
      },
      "execution_count": 66,
      "outputs": [
        {
          "output_type": "execute_result",
          "data": {
            "text/plain": [
              "True"
            ]
          },
          "metadata": {},
          "execution_count": 66
        }
      ]
    },
    {
      "cell_type": "code",
      "source": [
        "l[-2]"
      ],
      "metadata": {
        "colab": {
          "base_uri": "https://localhost:8080/",
          "height": 37
        },
        "id": "V4BJL_C-fxxE",
        "outputId": "32446694-16dc-4e65-e6fb-672eea83ebde"
      },
      "execution_count": 67,
      "outputs": [
        {
          "output_type": "execute_result",
          "data": {
            "application/vnd.google.colaboratory.intrinsic+json": {
              "type": "string"
            },
            "text/plain": [
              "'Hello World'"
            ]
          },
          "metadata": {},
          "execution_count": 67
        }
      ]
    },
    {
      "cell_type": "code",
      "source": [
        "l.append('Python')"
      ],
      "metadata": {
        "id": "32fo9QtrfzWr"
      },
      "execution_count": 68,
      "outputs": []
    },
    {
      "cell_type": "code",
      "source": [
        "l"
      ],
      "metadata": {
        "colab": {
          "base_uri": "https://localhost:8080/"
        },
        "id": "1pZMO61Kf2HB",
        "outputId": "6f5e40fb-8029-44f8-c1da-5575e3bf67ea"
      },
      "execution_count": 69,
      "outputs": [
        {
          "output_type": "execute_result",
          "data": {
            "text/plain": [
              "[3, 'Hello World', True, 'Python']"
            ]
          },
          "metadata": {},
          "execution_count": 69
        }
      ]
    },
    {
      "cell_type": "code",
      "source": [
        "'Python' in l"
      ],
      "metadata": {
        "colab": {
          "base_uri": "https://localhost:8080/"
        },
        "id": "kPeMBYLAf45k",
        "outputId": "8e8e5c72-ba06-4453-c2fa-af643dcc3ec6"
      },
      "execution_count": 70,
      "outputs": [
        {
          "output_type": "execute_result",
          "data": {
            "text/plain": [
              "True"
            ]
          },
          "metadata": {},
          "execution_count": 70
        }
      ]
    },
    {
      "cell_type": "code",
      "source": [
        "'Ruby' in l"
      ],
      "metadata": {
        "colab": {
          "base_uri": "https://localhost:8080/"
        },
        "id": "ZLyYqc4Lf65E",
        "outputId": "c40d9fc8-aedb-430d-ba53-db9793bcfc3e"
      },
      "execution_count": 71,
      "outputs": [
        {
          "output_type": "execute_result",
          "data": {
            "text/plain": [
              "False"
            ]
          },
          "metadata": {},
          "execution_count": 71
        }
      ]
    },
    {
      "cell_type": "markdown",
      "source": [
        "#Tuples\n",
        "\n",
        "Tuples are very similar to lists, but with a huge difference: they're immutable. That means, once a tuple is created, it can't be further modifie"
      ],
      "metadata": {
        "id": "scTN9cIbgCFn"
      }
    },
    {
      "cell_type": "code",
      "source": [
        "t = (3, 'Hello World', True)"
      ],
      "metadata": {
        "id": "fdC5kXTBgEh_"
      },
      "execution_count": 72,
      "outputs": []
    },
    {
      "cell_type": "markdown",
      "source": [
        "Same indexing:"
      ],
      "metadata": {
        "id": "44UTt4skgHvW"
      }
    },
    {
      "cell_type": "code",
      "source": [
        "t[0]"
      ],
      "metadata": {
        "colab": {
          "base_uri": "https://localhost:8080/"
        },
        "id": "QndvNWgdgIaV",
        "outputId": "f7ff7918-9ee3-4921-827d-5c989f4cbeb1"
      },
      "execution_count": 73,
      "outputs": [
        {
          "output_type": "execute_result",
          "data": {
            "text/plain": [
              "3"
            ]
          },
          "metadata": {},
          "execution_count": 73
        }
      ]
    },
    {
      "cell_type": "code",
      "source": [
        "t[-1]"
      ],
      "metadata": {
        "colab": {
          "base_uri": "https://localhost:8080/"
        },
        "id": "RS8Z4RZdgKbG",
        "outputId": "6a88066d-92d6-4620-ddb2-fb73f42f4568"
      },
      "execution_count": 74,
      "outputs": [
        {
          "output_type": "execute_result",
          "data": {
            "text/plain": [
              "True"
            ]
          },
          "metadata": {},
          "execution_count": 74
        }
      ]
    },
    {
      "cell_type": "code",
      "source": [
        "'Hello World' in t"
      ],
      "metadata": {
        "colab": {
          "base_uri": "https://localhost:8080/"
        },
        "id": "-tQYwu6mgNIN",
        "outputId": "dbb07065-d02f-47b0-967b-1eaec40d0d2b"
      },
      "execution_count": 75,
      "outputs": [
        {
          "output_type": "execute_result",
          "data": {
            "text/plain": [
              "True"
            ]
          },
          "metadata": {},
          "execution_count": 75
        }
      ]
    },
    {
      "cell_type": "markdown",
      "source": [
        "But no mods"
      ],
      "metadata": {
        "id": "ckVsxne1gQ_k"
      }
    },
    {
      "cell_type": "markdown",
      "source": [
        "#Dictionaries"
      ],
      "metadata": {
        "id": "NstEAe1QgTVp"
      }
    },
    {
      "cell_type": "code",
      "source": [
        "user = {\n",
        "    \"name\": \"Mary Smith\",\n",
        "    \"email\": \"mary@example.com\",\n",
        "    \"age\": 30,\n",
        "    \"subscribed\": True\n",
        "}\n"
      ],
      "metadata": {
        "id": "kSNmp_7xgQXQ"
      },
      "execution_count": 76,
      "outputs": []
    },
    {
      "cell_type": "code",
      "source": [
        "user"
      ],
      "metadata": {
        "colab": {
          "base_uri": "https://localhost:8080/"
        },
        "id": "GtG3ZIM9gXsm",
        "outputId": "59550ef3-586a-400a-803d-9fabc9605496"
      },
      "execution_count": 77,
      "outputs": [
        {
          "output_type": "execute_result",
          "data": {
            "text/plain": [
              "{'age': 30,\n",
              " 'email': 'mary@example.com',\n",
              " 'name': 'Mary Smith',\n",
              " 'subscribed': True}"
            ]
          },
          "metadata": {},
          "execution_count": 77
        }
      ]
    },
    {
      "cell_type": "code",
      "source": [
        "user['email']"
      ],
      "metadata": {
        "colab": {
          "base_uri": "https://localhost:8080/",
          "height": 37
        },
        "id": "TG_WTjc4ga3V",
        "outputId": "83ae160e-c679-4234-c552-6f7ddfcbb668"
      },
      "execution_count": 78,
      "outputs": [
        {
          "output_type": "execute_result",
          "data": {
            "application/vnd.google.colaboratory.intrinsic+json": {
              "type": "string"
            },
            "text/plain": [
              "'mary@example.com'"
            ]
          },
          "metadata": {},
          "execution_count": 78
        }
      ]
    },
    {
      "cell_type": "code",
      "source": [
        "'age' in user"
      ],
      "metadata": {
        "colab": {
          "base_uri": "https://localhost:8080/"
        },
        "id": "Bd3ZE2YFgdNZ",
        "outputId": "9834ffe6-4ae7-469e-d0a1-5131f832115f"
      },
      "execution_count": 79,
      "outputs": [
        {
          "output_type": "execute_result",
          "data": {
            "text/plain": [
              "True"
            ]
          },
          "metadata": {},
          "execution_count": 79
        }
      ]
    },
    {
      "cell_type": "code",
      "source": [
        "'last_name' in user"
      ],
      "metadata": {
        "colab": {
          "base_uri": "https://localhost:8080/"
        },
        "id": "-lpUAQHyge_4",
        "outputId": "afb2e53e-592b-40f8-c345-706d84cc5509"
      },
      "execution_count": 80,
      "outputs": [
        {
          "output_type": "execute_result",
          "data": {
            "text/plain": [
              "False"
            ]
          },
          "metadata": {},
          "execution_count": 80
        }
      ]
    },
    {
      "cell_type": "markdown",
      "source": [
        "\n",
        "# Sets\n",
        "\n"
      ],
      "metadata": {
        "id": "d-WqOmr7gmmw"
      }
    },
    {
      "cell_type": "code",
      "source": [
        "s = {3, 1, 3, 7, 9, 1, 3, 1}"
      ],
      "metadata": {
        "id": "HjUNeiWUgjRb"
      },
      "execution_count": 81,
      "outputs": []
    },
    {
      "cell_type": "code",
      "source": [
        "s"
      ],
      "metadata": {
        "colab": {
          "base_uri": "https://localhost:8080/"
        },
        "id": "FVCvrtPZgrxV",
        "outputId": "eb4e64ea-6268-4fd8-b6cf-a071280ff668"
      },
      "execution_count": 82,
      "outputs": [
        {
          "output_type": "execute_result",
          "data": {
            "text/plain": [
              "{1, 3, 7, 9}"
            ]
          },
          "metadata": {},
          "execution_count": 82
        }
      ]
    },
    {
      "cell_type": "markdown",
      "source": [
        "Adding elements done with add:"
      ],
      "metadata": {
        "id": "8zsDoQ_zgt5n"
      }
    },
    {
      "cell_type": "code",
      "source": [
        "s.add(10)"
      ],
      "metadata": {
        "id": "4GT3Mjv5gufQ"
      },
      "execution_count": 83,
      "outputs": []
    },
    {
      "cell_type": "markdown",
      "source": [
        "Removing elements done with pop:"
      ],
      "metadata": {
        "id": "5MPwi_t4gxfA"
      }
    },
    {
      "cell_type": "code",
      "source": [
        "s.pop()"
      ],
      "metadata": {
        "colab": {
          "base_uri": "https://localhost:8080/"
        },
        "id": "5c0TU7dUg0dc",
        "outputId": "ecf6d7e4-0e40-4a42-b968-7e352da9448d"
      },
      "execution_count": 84,
      "outputs": [
        {
          "output_type": "execute_result",
          "data": {
            "text/plain": [
              "1"
            ]
          },
          "metadata": {},
          "execution_count": 84
        }
      ]
    },
    {
      "cell_type": "markdown",
      "source": [
        "#Iterating collections"
      ],
      "metadata": {
        "id": "680VoFpZg6HJ"
      }
    },
    {
      "cell_type": "code",
      "source": [
        "l = [3, 'Hello World', True]\n"
      ],
      "metadata": {
        "id": "35pfG76Ng-wp"
      },
      "execution_count": 85,
      "outputs": []
    },
    {
      "cell_type": "code",
      "source": [
        "for elem in l:\n",
        "    print(elem)"
      ],
      "metadata": {
        "colab": {
          "base_uri": "https://localhost:8080/"
        },
        "id": "8GRbNVujhA88",
        "outputId": "b891af4e-9744-4e2a-f668-6c0d9133e0ae"
      },
      "execution_count": 86,
      "outputs": [
        {
          "output_type": "stream",
          "name": "stdout",
          "text": [
            "3\n",
            "Hello World\n",
            "True\n"
          ]
        }
      ]
    },
    {
      "cell_type": "code",
      "source": [
        "for key in user:\n",
        "    print(key.title(), '=>', user[key])"
      ],
      "metadata": {
        "colab": {
          "base_uri": "https://localhost:8080/"
        },
        "id": "wVVDKOh-hD_F",
        "outputId": "574696e4-225c-42b1-8285-b4f091e50356"
      },
      "execution_count": 88,
      "outputs": [
        {
          "output_type": "stream",
          "name": "stdout",
          "text": [
            "Name => Mary Smith\n",
            "Email => mary@example.com\n",
            "Age => 30\n",
            "Subscribed => True\n"
          ]
        }
      ]
    },
    {
      "cell_type": "markdown",
      "source": [
        "#Modules"
      ],
      "metadata": {
        "id": "vNuQIAPZhF9q"
      }
    },
    {
      "cell_type": "code",
      "source": [
        "import random"
      ],
      "metadata": {
        "id": "facfqmHLhI7Z"
      },
      "execution_count": 89,
      "outputs": []
    },
    {
      "cell_type": "code",
      "source": [
        "random.randint(0,99)"
      ],
      "metadata": {
        "colab": {
          "base_uri": "https://localhost:8080/"
        },
        "id": "SV68fmDHhKY0",
        "outputId": "db0e36d6-dc7d-41cd-e1ee-c7ea62f85aba"
      },
      "execution_count": 90,
      "outputs": [
        {
          "output_type": "execute_result",
          "data": {
            "text/plain": [
              "84"
            ]
          },
          "metadata": {},
          "execution_count": 90
        }
      ]
    },
    {
      "cell_type": "markdown",
      "source": [
        "#Exceptions"
      ],
      "metadata": {
        "id": "d_E13ot1hOlH"
      }
    },
    {
      "cell_type": "code",
      "source": [
        "age = \"30\"\n"
      ],
      "metadata": {
        "id": "SMZRy3r2hRaq"
      },
      "execution_count": 91,
      "outputs": []
    },
    {
      "cell_type": "code",
      "source": [
        "if age > 21:\n",
        "    print(\"Allowed entrance\")"
      ],
      "metadata": {
        "colab": {
          "base_uri": "https://localhost:8080/",
          "height": 181
        },
        "id": "DYZjmK3phWOE",
        "outputId": "eb6af185-05da-40b0-981e-edd8e186f77b"
      },
      "execution_count": 92,
      "outputs": [
        {
          "output_type": "error",
          "ename": "TypeError",
          "evalue": "ignored",
          "traceback": [
            "\u001b[0;31m---------------------------------------------------------------------------\u001b[0m",
            "\u001b[0;31mTypeError\u001b[0m                                 Traceback (most recent call last)",
            "\u001b[0;32m<ipython-input-92-31f2672e1932>\u001b[0m in \u001b[0;36m<module>\u001b[0;34m()\u001b[0m\n\u001b[0;32m----> 1\u001b[0;31m \u001b[0;32mif\u001b[0m \u001b[0mage\u001b[0m \u001b[0;34m>\u001b[0m \u001b[0;36m21\u001b[0m\u001b[0;34m:\u001b[0m\u001b[0;34m\u001b[0m\u001b[0;34m\u001b[0m\u001b[0m\n\u001b[0m\u001b[1;32m      2\u001b[0m     \u001b[0mprint\u001b[0m\u001b[0;34m(\u001b[0m\u001b[0;34m\"Allowed entrance\"\u001b[0m\u001b[0;34m)\u001b[0m\u001b[0;34m\u001b[0m\u001b[0;34m\u001b[0m\u001b[0m\n",
            "\u001b[0;31mTypeError\u001b[0m: '>' not supported between instances of 'str' and 'int'"
          ]
        }
      ]
    },
    {
      "cell_type": "code",
      "source": [
        "try:\n",
        "    if age > 21:\n",
        "        print(\"Allowed entrance\")\n",
        "except:\n",
        "    print(\"Something went wrong\")\n"
      ],
      "metadata": {
        "colab": {
          "base_uri": "https://localhost:8080/"
        },
        "id": "I-ZPX2X_hdEU",
        "outputId": "9ccb06b2-a79f-4363-954f-51350fdc5cbd"
      },
      "execution_count": 93,
      "outputs": [
        {
          "output_type": "stream",
          "name": "stdout",
          "text": [
            "Something went wrong\n"
          ]
        }
      ]
    },
    {
      "cell_type": "code",
      "source": [
        "try:\n",
        "    if age > 21:\n",
        "        print(\"Allowed entrance\")\n",
        "except TypeError:\n",
        "    print(\"Age is probably of a wrong type\")"
      ],
      "metadata": {
        "colab": {
          "base_uri": "https://localhost:8080/"
        },
        "id": "8tcgzNVthYfY",
        "outputId": "bbb3103c-8966-465a-c90f-1e70fa4d45d4"
      },
      "execution_count": 94,
      "outputs": [
        {
          "output_type": "stream",
          "name": "stdout",
          "text": [
            "Age is probably of a wrong type\n"
          ]
        }
      ]
    }
  ]
}