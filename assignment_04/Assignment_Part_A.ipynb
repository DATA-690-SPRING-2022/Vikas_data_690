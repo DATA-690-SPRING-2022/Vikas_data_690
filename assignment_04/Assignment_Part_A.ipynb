{
  "nbformat": 4,
  "nbformat_minor": 0,
  "metadata": {
    "colab": {
      "name": "Assignment_Part_A.ipynb",
      "provenance": [],
      "authorship_tag": "ABX9TyO27dY5xzQovFIOr5y1gmJ3",
      "include_colab_link": true
    },
    "kernelspec": {
      "name": "python3",
      "display_name": "Python 3"
    },
    "language_info": {
      "name": "python"
    }
  },
  "cells": [
    {
      "cell_type": "markdown",
      "metadata": {
        "id": "view-in-github",
        "colab_type": "text"
      },
      "source": [
        "<a href=\"https://colab.research.google.com/github/saivikaskondamidi/Vikas_data_690/blob/main/assignment_04/Assignment_Part_A.ipynb\" target=\"_parent\"><img src=\"https://colab.research.google.com/assets/colab-badge.svg\" alt=\"Open In Colab\"/></a>"
      ]
    },
    {
      "cell_type": "markdown",
      "source": [
        "**Assignment - 4**\n",
        "\n",
        "**Using Python**\n",
        "\n",
        "- Name : Sai Vikas Kondamidi\n",
        "- Date : 02/26/22"
      ],
      "metadata": {
        "id": "JiXD4V1-OXAs"
      }
    },
    {
      "cell_type": "code",
      "execution_count": 1,
      "metadata": {
        "colab": {
          "base_uri": "https://localhost:8080/"
        },
        "id": "at_D-JATOTqh",
        "outputId": "b5e25ea1-6034-4e8c-972b-5cf35da65ce0"
      },
      "outputs": [
        {
          "output_type": "execute_result",
          "data": {
            "text/plain": [
              "['Source: https://www.genealogybranches.com/censuscosts.html\\n',\n",
              " 'Census Year\\tTotal Population\\tCensus Cost\\tAverage Cost Per Person\\n',\n",
              " '1790\\t3,929,214\\t$44,377\\t1.13 cents\\n',\n",
              " '1800\\t5,308,483\\t$66,109\\t1.24 cents\\n',\n",
              " '1810\\t7,239,881\\t$178,445\\t2.46 cents\\n',\n",
              " '1820\\t9,633,822\\t$208,526\\t2.16 cents\\n',\n",
              " '1830\\t12,866,020\\t$378,545\\t2.94 cents\\n',\n",
              " '1840\\t17,069,458\\t$833,371\\t4.88 cents\\n',\n",
              " '1850\\t23,191,876\\t$1,423,351\\t6.14 cents\\n',\n",
              " '1860\\t31,443,321\\t$1,969,377\\t6.26 cents\\n',\n",
              " '1870\\t38,558,371\\t$3,421,198\\t8.87 cents\\n',\n",
              " '1880\\t50,155,783\\t$5,790,678\\t11.54 cents\\n',\n",
              " '1890\\t62,979,766\\t$11,547,127\\t18.33 cents\\n',\n",
              " '1900\\t76,303,387\\t$11,854,000\\t15.54 cents\\n',\n",
              " '1910\\t91,972,266\\t$15,968,000\\t17.07 cents\\n',\n",
              " '1920\\t105,710,620\\t$25,117,000\\t23.76 cents\\n',\n",
              " '1930\\t122,775,046\\t$40,156,000\\t32.71 cents\\n',\n",
              " '1940\\t131,669,275\\t$67,527,000\\t51.29 cents\\n',\n",
              " '1950\\t151,325,798\\t$91,462,000\\t60.44 cents\\n',\n",
              " '1960\\t179,323,175\\t$127,934,000\\t71.34 cents\\n',\n",
              " '1970\\t203,302,031\\t$247,653,000\\t$1.22\\n',\n",
              " '1980\\t226,542,199\\t$1,078,488,000\\t$4.76\\n',\n",
              " '1990\\t248,718,301\\t$2,492,830,000\\t$10.02\\n',\n",
              " '2000\\t281,421,906\\t$4.5 Billion\\t$15.99\\n',\n",
              " '2010*\\t308,745,538\\t$13 Billion\\t$42.11']"
            ]
          },
          "metadata": {},
          "execution_count": 1
        }
      ],
      "source": [
        "#opening the text file \n",
        "\n",
        "with open(\"census_costs.txt\",\"r\") as f:\n",
        "  line_list = f.readlines()\n",
        "\n",
        "line_list"
      ]
    },
    {
      "cell_type": "code",
      "source": [
        "#Extracting the first two lines and store in the top2_list\n",
        "\n",
        "top2_list = line_list[0:2]\n",
        "\n",
        "top2_list"
      ],
      "metadata": {
        "colab": {
          "base_uri": "https://localhost:8080/"
        },
        "id": "FdoFgQYrQEUw",
        "outputId": "d8270795-bbc1-49f6-9b8f-209ff431ad48"
      },
      "execution_count": 2,
      "outputs": [
        {
          "output_type": "execute_result",
          "data": {
            "text/plain": [
              "['Source: https://www.genealogybranches.com/censuscosts.html\\n',\n",
              " 'Census Year\\tTotal Population\\tCensus Cost\\tAverage Cost Per Person\\n']"
            ]
          },
          "metadata": {},
          "execution_count": 2
        }
      ]
    },
    {
      "cell_type": "code",
      "source": [
        "#rest of the lines are stored in data_list\n",
        "\n",
        "data_list = line_list[2:]\n",
        "\n",
        "data_list"
      ],
      "metadata": {
        "colab": {
          "base_uri": "https://localhost:8080/"
        },
        "id": "CuBPxQgvcwz3",
        "outputId": "9740743c-6171-44cf-bcc4-5ea8f0c8aaeb"
      },
      "execution_count": 3,
      "outputs": [
        {
          "output_type": "execute_result",
          "data": {
            "text/plain": [
              "['1790\\t3,929,214\\t$44,377\\t1.13 cents\\n',\n",
              " '1800\\t5,308,483\\t$66,109\\t1.24 cents\\n',\n",
              " '1810\\t7,239,881\\t$178,445\\t2.46 cents\\n',\n",
              " '1820\\t9,633,822\\t$208,526\\t2.16 cents\\n',\n",
              " '1830\\t12,866,020\\t$378,545\\t2.94 cents\\n',\n",
              " '1840\\t17,069,458\\t$833,371\\t4.88 cents\\n',\n",
              " '1850\\t23,191,876\\t$1,423,351\\t6.14 cents\\n',\n",
              " '1860\\t31,443,321\\t$1,969,377\\t6.26 cents\\n',\n",
              " '1870\\t38,558,371\\t$3,421,198\\t8.87 cents\\n',\n",
              " '1880\\t50,155,783\\t$5,790,678\\t11.54 cents\\n',\n",
              " '1890\\t62,979,766\\t$11,547,127\\t18.33 cents\\n',\n",
              " '1900\\t76,303,387\\t$11,854,000\\t15.54 cents\\n',\n",
              " '1910\\t91,972,266\\t$15,968,000\\t17.07 cents\\n',\n",
              " '1920\\t105,710,620\\t$25,117,000\\t23.76 cents\\n',\n",
              " '1930\\t122,775,046\\t$40,156,000\\t32.71 cents\\n',\n",
              " '1940\\t131,669,275\\t$67,527,000\\t51.29 cents\\n',\n",
              " '1950\\t151,325,798\\t$91,462,000\\t60.44 cents\\n',\n",
              " '1960\\t179,323,175\\t$127,934,000\\t71.34 cents\\n',\n",
              " '1970\\t203,302,031\\t$247,653,000\\t$1.22\\n',\n",
              " '1980\\t226,542,199\\t$1,078,488,000\\t$4.76\\n',\n",
              " '1990\\t248,718,301\\t$2,492,830,000\\t$10.02\\n',\n",
              " '2000\\t281,421,906\\t$4.5 Billion\\t$15.99\\n',\n",
              " '2010*\\t308,745,538\\t$13 Billion\\t$42.11']"
            ]
          },
          "metadata": {},
          "execution_count": 3
        }
      ]
    },
    {
      "cell_type": "code",
      "source": [
        "#Extract the column \"Census Year\" from data_list and assigning  them to a list named year_list. Remove the \"*\" from the last element \"2010*\". Print the cleansed year_list\n",
        "\n",
        "year_list = []\n",
        "\n",
        "for line in data_list:\n",
        "     year = line[0:4]\n",
        "     year_list.append(year)\n",
        "\n",
        "print(year_list)"
      ],
      "metadata": {
        "colab": {
          "base_uri": "https://localhost:8080/"
        },
        "id": "JzN5vR3VdIaw",
        "outputId": "19b4898e-f517-4a06-e58b-d4804c25e2a4"
      },
      "execution_count": 4,
      "outputs": [
        {
          "output_type": "stream",
          "name": "stdout",
          "text": [
            "['1790', '1800', '1810', '1820', '1830', '1840', '1850', '1860', '1870', '1880', '1890', '1900', '1910', '1920', '1930', '1940', '1950', '1960', '1970', '1980', '1990', '2000', '2010']\n"
          ]
        }
      ]
    },
    {
      "cell_type": "code",
      "source": [
        "#Extract the \"Total Population\" column from the data_list and assign them to a list named \"pop_list\". Remove the \",\" from the numbers since Python doesn't recognize them. Print the cleansed \"pop_list\".\n",
        "\n",
        "pop_list = []\n",
        "\n",
        "for line in data_list:\n",
        "     part_list = line.split(\"\\t\")\n",
        "     pop= part_list[1]\n",
        "     pop_list.append(pop)\n",
        "\n",
        "print(pop_list)\n",
        "print(\"\\n\")\n",
        "\n",
        "cleansed_pop_list = []\n",
        "for pop in pop_list:\n",
        "  cleansed_pop = pop.replace(\",\", \"\")\n",
        "  cleansed_pop_list.append(int(cleansed_pop))\n",
        "\n",
        "pop_list = cleansed_pop_list\n",
        "\n",
        "print(pop_list)"
      ],
      "metadata": {
        "colab": {
          "base_uri": "https://localhost:8080/"
        },
        "id": "QaXwR7kud74K",
        "outputId": "9b6a0205-20a4-4d7b-ce91-8cb10629d8f2"
      },
      "execution_count": 5,
      "outputs": [
        {
          "output_type": "stream",
          "name": "stdout",
          "text": [
            "['3,929,214', '5,308,483', '7,239,881', '9,633,822', '12,866,020', '17,069,458', '23,191,876', '31,443,321', '38,558,371', '50,155,783', '62,979,766', '76,303,387', '91,972,266', '105,710,620', '122,775,046', '131,669,275', '151,325,798', '179,323,175', '203,302,031', '226,542,199', '248,718,301', '281,421,906', '308,745,538']\n",
            "\n",
            "\n",
            "[3929214, 5308483, 7239881, 9633822, 12866020, 17069458, 23191876, 31443321, 38558371, 50155783, 62979766, 76303387, 91972266, 105710620, 122775046, 131669275, 151325798, 179323175, 203302031, 226542199, 248718301, 281421906, 308745538]\n"
          ]
        }
      ]
    },
    {
      "cell_type": "code",
      "source": [
        "#Extract the \"Census Cost\" column from the data_list and assign them to a list named \"cost_list\". Remove the \",\", and \"$\", and \"Billion\". Make sure to add the \"0\"s to the numbers from which you removed \"Billion\". Print the cleansed cost_list.\n",
        "\n",
        "cost_list = [line.split(\"\\t\")[2] for line in data_list ]\n",
        "print(cost_list)\n",
        "print(\"\\n\")\n",
        "\n",
        "cleansed_cost_list = []\n",
        "for cost in cost_list:\n",
        "    cost_value = cost.replace(\",\",\"\")\n",
        "    cost_value = cost_value.replace(\"$\",\"\").replace(\" \",\"\")\n",
        "    if \"Billion\" in cost_value:\n",
        "       cost_value=float(cost_value.replace(\"Billion\",\"\"))*1000000000\n",
        "    \n",
        "    cleansed_cost_list.append(int(cost_value))\n",
        "\n",
        "cost_list = cleansed_cost_list\n",
        "\n",
        "print(cost_list)\n",
        "\n",
        "\n"
      ],
      "metadata": {
        "colab": {
          "base_uri": "https://localhost:8080/"
        },
        "id": "Bxsmabr5dsZa",
        "outputId": "90abda79-7468-4ce4-dd57-91fe5250ae89"
      },
      "execution_count": 6,
      "outputs": [
        {
          "output_type": "stream",
          "name": "stdout",
          "text": [
            "['$44,377', '$66,109', '$178,445', '$208,526', '$378,545', '$833,371', '$1,423,351', '$1,969,377', '$3,421,198', '$5,790,678', '$11,547,127', '$11,854,000', '$15,968,000', '$25,117,000', '$40,156,000', '$67,527,000', '$91,462,000', '$127,934,000', '$247,653,000', '$1,078,488,000', '$2,492,830,000', '$4.5 Billion', '$13 Billion']\n",
            "\n",
            "\n",
            "[44377, 66109, 178445, 208526, 378545, 833371, 1423351, 1969377, 3421198, 5790678, 11547127, 11854000, 15968000, 25117000, 40156000, 67527000, 91462000, 127934000, 247653000, 1078488000, 2492830000, 4500000000, 13000000000]\n"
          ]
        }
      ]
    },
    {
      "cell_type": "code",
      "source": [
        "#Extract the \"Average Cost per Person\" column from the data_list and assign them to a list named \"avg_list\". Remove the \"cents\", and \"$\". Make sure to divide the numbers in cents by 100 so that all numbers are measured in dollar. Print the cleansed avg_list.\n",
        "\n",
        "avg_list = [line.split(\"\\t\")[3] for line in data_list ]\n",
        "print(avg_list)\n",
        "print(\"\\n\") \n",
        "cleansed_avg_list = []  \n",
        "for avg_cost in avg_list:\n",
        "    avg_value = avg_cost.replace(\"cents\\n\", \"\")\n",
        "    avg_value = avg_cost.replace(\"$\", \"\").replace(\"\\n\",\"\")\n",
        "    if \"cents\" in avg_value:\n",
        "      avg_value = float(avg_value.replace(\"cents\",\"\"))/100\n",
        "\n",
        "    cleansed_avg_list.append(float(avg_value))\n",
        "avg_list = cleansed_avg_list\n",
        "      \n",
        "print(avg_list)  "
      ],
      "metadata": {
        "colab": {
          "base_uri": "https://localhost:8080/"
        },
        "id": "VC5XFvegv6Km",
        "outputId": "aa74d6eb-a4c5-4c85-c550-2d91dcd4a653"
      },
      "execution_count": 7,
      "outputs": [
        {
          "output_type": "stream",
          "name": "stdout",
          "text": [
            "['1.13 cents\\n', '1.24 cents\\n', '2.46 cents\\n', '2.16 cents\\n', '2.94 cents\\n', '4.88 cents\\n', '6.14 cents\\n', '6.26 cents\\n', '8.87 cents\\n', '11.54 cents\\n', '18.33 cents\\n', '15.54 cents\\n', '17.07 cents\\n', '23.76 cents\\n', '32.71 cents\\n', '51.29 cents\\n', '60.44 cents\\n', '71.34 cents\\n', '$1.22\\n', '$4.76\\n', '$10.02\\n', '$15.99\\n', '$42.11']\n",
            "\n",
            "\n",
            "[0.0113, 0.0124, 0.0246, 0.0216, 0.0294, 0.048799999999999996, 0.061399999999999996, 0.0626, 0.08869999999999999, 0.11539999999999999, 0.1833, 0.15539999999999998, 0.1707, 0.2376, 0.3271, 0.5129, 0.6043999999999999, 0.7134, 1.22, 4.76, 10.02, 15.99, 42.11]\n"
          ]
        }
      ]
    },
    {
      "cell_type": "code",
      "source": [
        "#Coalesce the cleansed data and save them to a text file named \"census_cost.csv\". The new file should look similar to the original source file except that it is in comma-delimited format and the numbers have been cleansed. The top two lines from the original file should be retained in the new file.\n",
        "\n",
        "with open(\"census_cost.csv\", \"w\") as newfile:\n",
        "    for x in top2_list:\n",
        "        newfile.write(x)\n",
        "    \n",
        "    for ele in zip(year_list, cleansed_pop_list, cleansed_cost_list, cleansed_avg_list):\n",
        "        newfile.write(\"{0}, {1}, {2}, {3}\\n\".format(*ele))\n",
        "\n",
        "newfile.close()"
      ],
      "metadata": {
        "id": "1fhO7LQOFwEM"
      },
      "execution_count": 8,
      "outputs": []
    },
    {
      "cell_type": "code",
      "source": [
        "file = open(\"census_cost.csv\",\"r\")"
      ],
      "metadata": {
        "id": "nHPY3zsQHF6E"
      },
      "execution_count": 9,
      "outputs": []
    },
    {
      "cell_type": "code",
      "source": [
        "for line in file:\n",
        "  print(line)"
      ],
      "metadata": {
        "colab": {
          "base_uri": "https://localhost:8080/"
        },
        "id": "KJHaFuy4HS_K",
        "outputId": "2421ec4c-3e55-4aeb-dfda-01740171b90a"
      },
      "execution_count": 10,
      "outputs": [
        {
          "output_type": "stream",
          "name": "stdout",
          "text": [
            "Source: https://www.genealogybranches.com/censuscosts.html\n",
            "\n",
            "Census Year\tTotal Population\tCensus Cost\tAverage Cost Per Person\n",
            "\n",
            "1790, 3929214, 44377, 0.0113\n",
            "\n",
            "1800, 5308483, 66109, 0.0124\n",
            "\n",
            "1810, 7239881, 178445, 0.0246\n",
            "\n",
            "1820, 9633822, 208526, 0.0216\n",
            "\n",
            "1830, 12866020, 378545, 0.0294\n",
            "\n",
            "1840, 17069458, 833371, 0.048799999999999996\n",
            "\n",
            "1850, 23191876, 1423351, 0.061399999999999996\n",
            "\n",
            "1860, 31443321, 1969377, 0.0626\n",
            "\n",
            "1870, 38558371, 3421198, 0.08869999999999999\n",
            "\n",
            "1880, 50155783, 5790678, 0.11539999999999999\n",
            "\n",
            "1890, 62979766, 11547127, 0.1833\n",
            "\n",
            "1900, 76303387, 11854000, 0.15539999999999998\n",
            "\n",
            "1910, 91972266, 15968000, 0.1707\n",
            "\n",
            "1920, 105710620, 25117000, 0.2376\n",
            "\n",
            "1930, 122775046, 40156000, 0.3271\n",
            "\n",
            "1940, 131669275, 67527000, 0.5129\n",
            "\n",
            "1950, 151325798, 91462000, 0.6043999999999999\n",
            "\n",
            "1960, 179323175, 127934000, 0.7134\n",
            "\n",
            "1970, 203302031, 247653000, 1.22\n",
            "\n",
            "1980, 226542199, 1078488000, 4.76\n",
            "\n",
            "1990, 248718301, 2492830000, 10.02\n",
            "\n",
            "2000, 281421906, 4500000000, 15.99\n",
            "\n",
            "2010, 308745538, 13000000000, 42.11\n",
            "\n"
          ]
        }
      ]
    },
    {
      "cell_type": "code",
      "source": [
        "with open (\"census_cost.csv\", \"r\") as f: \n",
        "    new_csv = f.readlines()  \n",
        "\n",
        "new_csv"
      ],
      "metadata": {
        "colab": {
          "base_uri": "https://localhost:8080/"
        },
        "id": "7n92gi_lIaqu",
        "outputId": "3ab95b64-77fc-47a5-ec26-f8a985f7a44a"
      },
      "execution_count": 11,
      "outputs": [
        {
          "output_type": "execute_result",
          "data": {
            "text/plain": [
              "['Source: https://www.genealogybranches.com/censuscosts.html\\n',\n",
              " 'Census Year\\tTotal Population\\tCensus Cost\\tAverage Cost Per Person\\n',\n",
              " '1790, 3929214, 44377, 0.0113\\n',\n",
              " '1800, 5308483, 66109, 0.0124\\n',\n",
              " '1810, 7239881, 178445, 0.0246\\n',\n",
              " '1820, 9633822, 208526, 0.0216\\n',\n",
              " '1830, 12866020, 378545, 0.0294\\n',\n",
              " '1840, 17069458, 833371, 0.048799999999999996\\n',\n",
              " '1850, 23191876, 1423351, 0.061399999999999996\\n',\n",
              " '1860, 31443321, 1969377, 0.0626\\n',\n",
              " '1870, 38558371, 3421198, 0.08869999999999999\\n',\n",
              " '1880, 50155783, 5790678, 0.11539999999999999\\n',\n",
              " '1890, 62979766, 11547127, 0.1833\\n',\n",
              " '1900, 76303387, 11854000, 0.15539999999999998\\n',\n",
              " '1910, 91972266, 15968000, 0.1707\\n',\n",
              " '1920, 105710620, 25117000, 0.2376\\n',\n",
              " '1930, 122775046, 40156000, 0.3271\\n',\n",
              " '1940, 131669275, 67527000, 0.5129\\n',\n",
              " '1950, 151325798, 91462000, 0.6043999999999999\\n',\n",
              " '1960, 179323175, 127934000, 0.7134\\n',\n",
              " '1970, 203302031, 247653000, 1.22\\n',\n",
              " '1980, 226542199, 1078488000, 4.76\\n',\n",
              " '1990, 248718301, 2492830000, 10.02\\n',\n",
              " '2000, 281421906, 4500000000, 15.99\\n',\n",
              " '2010, 308745538, 13000000000, 42.11\\n']"
            ]
          },
          "metadata": {},
          "execution_count": 11
        }
      ]
    }
  ]
}