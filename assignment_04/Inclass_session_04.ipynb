{
  "nbformat": 4,
  "nbformat_minor": 0,
  "metadata": {
    "colab": {
      "name": "Inclass_session_04.ipynb",
      "provenance": [],
      "authorship_tag": "ABX9TyP8clgrVniF5HuIpf35p1T2",
      "include_colab_link": true
    },
    "kernelspec": {
      "name": "python3",
      "display_name": "Python 3"
    },
    "language_info": {
      "name": "python"
    }
  },
  "cells": [
    {
      "cell_type": "markdown",
      "metadata": {
        "id": "view-in-github",
        "colab_type": "text"
      },
      "source": [
        "<a href=\"https://colab.research.google.com/github/saivikaskondamidi/Vikas_data_690/blob/main/assignment_04/Inclass_session_04.ipynb\" target=\"_parent\"><img src=\"https://colab.research.google.com/assets/colab-badge.svg\" alt=\"Open In Colab\"/></a>"
      ]
    },
    {
      "cell_type": "markdown",
      "source": [
        "# In class Practice\n",
        "\n",
        "- Date: 02/21/22\n",
        "- Name:**Sai Vikas Kondamidi**"
      ],
      "metadata": {
        "id": "BDl2-aMy0bmK"
      }
    },
    {
      "cell_type": "code",
      "source": [
        "import random\n",
        "import re\n",
        "for i in range(0,10):\n",
        "    print(end=\"\\n \")\n",
        "    for j in range(0,10):\n",
        "        num=random.randint(0,9)\n",
        "        if (num % 2) == 0:\n",
        "            print(num, end=\" \")\n",
        "        else:\n",
        "            strnum = str(num)\n",
        "            strnum=strnum.replace(strnum,\"@\")\n",
        "            print(strnum, end=\" \")"
      ],
      "metadata": {
        "colab": {
          "base_uri": "https://localhost:8080/"
        },
        "id": "1qq0OYAv0xS6",
        "outputId": "800f6c1b-fbb7-42b0-ba2e-90b859de7833"
      },
      "execution_count": 42,
      "outputs": [
        {
          "output_type": "stream",
          "name": "stdout",
          "text": [
            "\n",
            " 0 @ @ 0 @ @ @ @ 4 8 \n",
            " 0 @ @ 8 4 6 @ @ @ @ \n",
            " @ @ 0 @ 4 6 6 6 8 0 \n",
            " 4 6 @ 2 @ 4 6 6 @ 2 \n",
            " @ @ 8 0 @ @ @ @ @ 0 \n",
            " 2 @ @ 6 4 @ @ @ @ @ \n",
            " @ @ @ 8 @ @ @ @ @ @ \n",
            " 4 6 4 6 @ @ @ 4 @ 2 \n",
            " 6 4 @ 8 @ 4 2 2 @ @ \n",
            " 4 @ @ 4 6 4 @ @ @ 2 "
          ]
        }
      ]
    },
    {
      "cell_type": "code",
      "source": [
        "x = \"Hello,wporld!\"\n",
        "\n",
        "print(x)"
      ],
      "metadata": {
        "colab": {
          "base_uri": "https://localhost:8080/"
        },
        "id": "IMu6CKft0_da",
        "outputId": "c3843a61-6b3a-47b4-9230-e67533fa2a47"
      },
      "execution_count": 43,
      "outputs": [
        {
          "output_type": "stream",
          "name": "stdout",
          "text": [
            "Hello,wporld!\n"
          ]
        }
      ]
    },
    {
      "cell_type": "code",
      "source": [
        "x = x.replace(\"p\", \"\")\n",
        "\n",
        "print(x)"
      ],
      "metadata": {
        "colab": {
          "base_uri": "https://localhost:8080/"
        },
        "id": "aiqBYOGF1H0F",
        "outputId": "d002f8a6-782d-47f7-ea27-eb5d56996ebb"
      },
      "execution_count": 44,
      "outputs": [
        {
          "output_type": "stream",
          "name": "stdout",
          "text": [
            "Hello,world!\n"
          ]
        }
      ]
    },
    {
      "cell_type": "code",
      "source": [
        "x = x.replace(\"Hello\", \"Hi\")\n",
        "\n",
        "print(x)"
      ],
      "metadata": {
        "colab": {
          "base_uri": "https://localhost:8080/"
        },
        "id": "CKQBlvpu1Wfi",
        "outputId": "3fa11249-115f-43a2-a3f5-f52551d76de5"
      },
      "execution_count": 45,
      "outputs": [
        {
          "output_type": "stream",
          "name": "stdout",
          "text": [
            "Hi,world!\n"
          ]
        }
      ]
    },
    {
      "cell_type": "code",
      "source": [
        "x = x.replace(\"w\", \"W\")\n",
        "\n",
        "print(x)"
      ],
      "metadata": {
        "colab": {
          "base_uri": "https://localhost:8080/"
        },
        "id": "xBYLYtXC16cY",
        "outputId": "82be317d-91e2-4531-a11f-e9d230b24d88"
      },
      "execution_count": 46,
      "outputs": [
        {
          "output_type": "stream",
          "name": "stdout",
          "text": [
            "Hi,World!\n"
          ]
        }
      ]
    },
    {
      "cell_type": "code",
      "source": [
        "x = x.upper()\n",
        "\n",
        "print(x)"
      ],
      "metadata": {
        "colab": {
          "base_uri": "https://localhost:8080/"
        },
        "id": "oIOziBwy2P2F",
        "outputId": "f2b7bb0a-3c60-422d-92cd-05ab892d53db"
      },
      "execution_count": 47,
      "outputs": [
        {
          "output_type": "stream",
          "name": "stdout",
          "text": [
            "HI,WORLD!\n"
          ]
        }
      ]
    },
    {
      "cell_type": "code",
      "source": [
        "x = x.lower()\n",
        "\n",
        "print(x)"
      ],
      "metadata": {
        "colab": {
          "base_uri": "https://localhost:8080/"
        },
        "id": "HHhohXH22bq4",
        "outputId": "6592fe87-b107-469e-c345-0671025c9ed5"
      },
      "execution_count": 48,
      "outputs": [
        {
          "output_type": "stream",
          "name": "stdout",
          "text": [
            "hi,world!\n"
          ]
        }
      ]
    },
    {
      "cell_type": "markdown",
      "source": [
        "# String functions/methods/operations\n",
        "\n",
        "- upper()\n",
        "- lower()\n",
        "- strip()\n",
        "- lstrip()\n",
        "- rstrip()\n"
      ],
      "metadata": {
        "id": "sXbempew2riP"
      }
    },
    {
      "cell_type": "code",
      "source": [
        "# generate 100 numbers first\n",
        "numbers= []\n",
        "for i in range(100):\n",
        "  numbers.append(random.randint(0,9))\n",
        "\n",
        "print(numbers)\n",
        "print(len(numbers))"
      ],
      "metadata": {
        "colab": {
          "base_uri": "https://localhost:8080/"
        },
        "id": "MOJvenHp2_LU",
        "outputId": "61d27458-72af-42fa-a49b-0673ba6358f6"
      },
      "execution_count": 49,
      "outputs": [
        {
          "output_type": "stream",
          "name": "stdout",
          "text": [
            "[3, 9, 5, 4, 8, 0, 2, 9, 2, 9, 9, 8, 0, 0, 0, 7, 4, 2, 6, 8, 3, 1, 2, 8, 6, 5, 0, 7, 4, 5, 3, 3, 4, 9, 6, 5, 6, 3, 3, 9, 0, 3, 2, 4, 3, 5, 8, 8, 4, 0, 4, 6, 8, 0, 2, 0, 1, 0, 8, 6, 8, 2, 2, 0, 4, 2, 1, 0, 8, 6, 9, 6, 6, 0, 9, 1, 7, 8, 3, 5, 1, 6, 0, 1, 4, 0, 3, 4, 9, 1, 2, 6, 4, 8, 6, 5, 0, 0, 5, 3]\n",
            "100\n"
          ]
        }
      ]
    },
    {
      "cell_type": "code",
      "source": [
        "print(numbers[0])"
      ],
      "metadata": {
        "colab": {
          "base_uri": "https://localhost:8080/"
        },
        "id": "WtpdcDFg4MlR",
        "outputId": "12f26d9f-c7e3-48c4-8632-88d41318aead"
      },
      "execution_count": 50,
      "outputs": [
        {
          "output_type": "stream",
          "name": "stdout",
          "text": [
            "3\n"
          ]
        }
      ]
    },
    {
      "cell_type": "code",
      "source": [
        "for i in range(0,100,1):\n",
        "  print(\"index = \",i,\"numbers = \",numbers[i])"
      ],
      "metadata": {
        "colab": {
          "base_uri": "https://localhost:8080/"
        },
        "id": "bmFL2GUG4_ew",
        "outputId": "c599a612-82d7-4bf3-cefd-993b9be7dd2d"
      },
      "execution_count": 51,
      "outputs": [
        {
          "output_type": "stream",
          "name": "stdout",
          "text": [
            "index =  0 numbers =  3\n",
            "index =  1 numbers =  9\n",
            "index =  2 numbers =  5\n",
            "index =  3 numbers =  4\n",
            "index =  4 numbers =  8\n",
            "index =  5 numbers =  0\n",
            "index =  6 numbers =  2\n",
            "index =  7 numbers =  9\n",
            "index =  8 numbers =  2\n",
            "index =  9 numbers =  9\n",
            "index =  10 numbers =  9\n",
            "index =  11 numbers =  8\n",
            "index =  12 numbers =  0\n",
            "index =  13 numbers =  0\n",
            "index =  14 numbers =  0\n",
            "index =  15 numbers =  7\n",
            "index =  16 numbers =  4\n",
            "index =  17 numbers =  2\n",
            "index =  18 numbers =  6\n",
            "index =  19 numbers =  8\n",
            "index =  20 numbers =  3\n",
            "index =  21 numbers =  1\n",
            "index =  22 numbers =  2\n",
            "index =  23 numbers =  8\n",
            "index =  24 numbers =  6\n",
            "index =  25 numbers =  5\n",
            "index =  26 numbers =  0\n",
            "index =  27 numbers =  7\n",
            "index =  28 numbers =  4\n",
            "index =  29 numbers =  5\n",
            "index =  30 numbers =  3\n",
            "index =  31 numbers =  3\n",
            "index =  32 numbers =  4\n",
            "index =  33 numbers =  9\n",
            "index =  34 numbers =  6\n",
            "index =  35 numbers =  5\n",
            "index =  36 numbers =  6\n",
            "index =  37 numbers =  3\n",
            "index =  38 numbers =  3\n",
            "index =  39 numbers =  9\n",
            "index =  40 numbers =  0\n",
            "index =  41 numbers =  3\n",
            "index =  42 numbers =  2\n",
            "index =  43 numbers =  4\n",
            "index =  44 numbers =  3\n",
            "index =  45 numbers =  5\n",
            "index =  46 numbers =  8\n",
            "index =  47 numbers =  8\n",
            "index =  48 numbers =  4\n",
            "index =  49 numbers =  0\n",
            "index =  50 numbers =  4\n",
            "index =  51 numbers =  6\n",
            "index =  52 numbers =  8\n",
            "index =  53 numbers =  0\n",
            "index =  54 numbers =  2\n",
            "index =  55 numbers =  0\n",
            "index =  56 numbers =  1\n",
            "index =  57 numbers =  0\n",
            "index =  58 numbers =  8\n",
            "index =  59 numbers =  6\n",
            "index =  60 numbers =  8\n",
            "index =  61 numbers =  2\n",
            "index =  62 numbers =  2\n",
            "index =  63 numbers =  0\n",
            "index =  64 numbers =  4\n",
            "index =  65 numbers =  2\n",
            "index =  66 numbers =  1\n",
            "index =  67 numbers =  0\n",
            "index =  68 numbers =  8\n",
            "index =  69 numbers =  6\n",
            "index =  70 numbers =  9\n",
            "index =  71 numbers =  6\n",
            "index =  72 numbers =  6\n",
            "index =  73 numbers =  0\n",
            "index =  74 numbers =  9\n",
            "index =  75 numbers =  1\n",
            "index =  76 numbers =  7\n",
            "index =  77 numbers =  8\n",
            "index =  78 numbers =  3\n",
            "index =  79 numbers =  5\n",
            "index =  80 numbers =  1\n",
            "index =  81 numbers =  6\n",
            "index =  82 numbers =  0\n",
            "index =  83 numbers =  1\n",
            "index =  84 numbers =  4\n",
            "index =  85 numbers =  0\n",
            "index =  86 numbers =  3\n",
            "index =  87 numbers =  4\n",
            "index =  88 numbers =  9\n",
            "index =  89 numbers =  1\n",
            "index =  90 numbers =  2\n",
            "index =  91 numbers =  6\n",
            "index =  92 numbers =  4\n",
            "index =  93 numbers =  8\n",
            "index =  94 numbers =  6\n",
            "index =  95 numbers =  5\n",
            "index =  96 numbers =  0\n",
            "index =  97 numbers =  0\n",
            "index =  98 numbers =  5\n",
            "index =  99 numbers =  3\n"
          ]
        }
      ]
    },
    {
      "cell_type": "code",
      "source": [
        "count= 0\n",
        "for i in range(10):\n",
        "  for j in range(10):\n",
        "    print(numbers[count],\" \", end =\" \")\n",
        "    count+=1\n",
        "  print(\"\\n\")"
      ],
      "metadata": {
        "colab": {
          "base_uri": "https://localhost:8080/"
        },
        "id": "O7qeVgUD31-m",
        "outputId": "c780fb08-5f2c-42af-b641-37afd8c1597a"
      },
      "execution_count": 52,
      "outputs": [
        {
          "output_type": "stream",
          "name": "stdout",
          "text": [
            "3   9   5   4   8   0   2   9   2   9   \n",
            "\n",
            "9   8   0   0   0   7   4   2   6   8   \n",
            "\n",
            "3   1   2   8   6   5   0   7   4   5   \n",
            "\n",
            "3   3   4   9   6   5   6   3   3   9   \n",
            "\n",
            "0   3   2   4   3   5   8   8   4   0   \n",
            "\n",
            "4   6   8   0   2   0   1   0   8   6   \n",
            "\n",
            "8   2   2   0   4   2   1   0   8   6   \n",
            "\n",
            "9   6   6   0   9   1   7   8   3   5   \n",
            "\n",
            "1   6   0   1   4   0   3   4   9   1   \n",
            "\n",
            "2   6   4   8   6   5   0   0   5   3   \n",
            "\n"
          ]
        }
      ]
    },
    {
      "cell_type": "code",
      "source": [
        "# when to intialize a variable\n",
        "\n",
        "sum = 0\n",
        "for n in range(10):\n",
        "  for i in range(10):\n",
        "    y=random.randint(0,9)\n",
        "    sum=sum+y\n",
        "    print(y, end=\" \")\n",
        "  print(\"*\",sum,end=\"\\n\")\n",
        "  sum=0"
      ],
      "metadata": {
        "colab": {
          "base_uri": "https://localhost:8080/"
        },
        "id": "ZMxcMFiF6DQq",
        "outputId": "756a4cbc-6aba-42ab-d3e5-d674a7fe4061"
      },
      "execution_count": 53,
      "outputs": [
        {
          "output_type": "stream",
          "name": "stdout",
          "text": [
            "9 1 7 0 7 1 6 5 4 6 * 46\n",
            "9 7 7 7 5 3 4 0 5 4 * 51\n",
            "5 5 6 6 5 0 5 1 1 6 * 40\n",
            "0 6 9 6 8 4 1 6 2 2 * 44\n",
            "7 2 9 3 3 8 1 5 1 4 * 43\n",
            "6 8 6 7 7 5 5 2 8 6 * 60\n",
            "0 3 2 5 8 7 6 3 1 6 * 41\n",
            "0 6 2 6 8 8 1 8 1 4 * 44\n",
            "4 8 4 1 4 1 3 7 5 3 * 40\n",
            "1 9 4 8 9 6 0 0 5 3 * 45\n"
          ]
        }
      ]
    },
    {
      "cell_type": "code",
      "source": [
        "# when to intialize a variable\n",
        "\n",
        "for n in range(10):\n",
        "  sum=0\n",
        "  for i in range(10):\n",
        "    y=random.randint(0,9)\n",
        "    sum=sum+y\n",
        "    print(y, end=\" \")\n",
        "  print(\"*\",sum,end=\"\\n\")"
      ],
      "metadata": {
        "colab": {
          "base_uri": "https://localhost:8080/"
        },
        "id": "XNMwxdIR6iAc",
        "outputId": "e91407fc-1e42-4a6b-ac8a-6d4c4395ee89"
      },
      "execution_count": 54,
      "outputs": [
        {
          "output_type": "stream",
          "name": "stdout",
          "text": [
            "0 7 5 8 0 3 9 8 6 7 * 53\n",
            "4 5 1 3 1 1 5 3 6 5 * 34\n",
            "2 2 0 4 6 3 8 3 3 7 * 38\n",
            "9 9 2 6 0 4 2 3 4 0 * 39\n",
            "1 2 8 0 2 2 7 4 1 4 * 31\n",
            "0 4 4 8 2 5 9 8 6 3 * 49\n",
            "9 5 6 6 9 6 8 8 6 9 * 72\n",
            "5 4 1 3 0 8 0 9 0 0 * 30\n",
            "2 2 6 6 1 1 0 0 8 1 * 27\n",
            "4 7 3 6 7 2 9 0 7 4 * 49\n"
          ]
        }
      ]
    },
    {
      "cell_type": "code",
      "source": [
        "x = [0,0,0,0,0,0]\n",
        "\n",
        "print(x)"
      ],
      "metadata": {
        "colab": {
          "base_uri": "https://localhost:8080/"
        },
        "id": "0PDsX4bp6u2R",
        "outputId": "68d72346-3e2a-44e0-ed02-50d27fdcfc3d"
      },
      "execution_count": 55,
      "outputs": [
        {
          "output_type": "stream",
          "name": "stdout",
          "text": [
            "[0, 0, 0, 0, 0, 0]\n"
          ]
        }
      ]
    },
    {
      "cell_type": "code",
      "source": [
        "x = [0] * 6\n",
        "\n",
        "print(x)"
      ],
      "metadata": {
        "colab": {
          "base_uri": "https://localhost:8080/"
        },
        "id": "LNyl3i4W7CdO",
        "outputId": "0b7e35d7-9ddf-4cb5-a805-b679ce5904e9"
      },
      "execution_count": 56,
      "outputs": [
        {
          "output_type": "stream",
          "name": "stdout",
          "text": [
            "[0, 0, 0, 0, 0, 0]\n"
          ]
        }
      ]
    },
    {
      "cell_type": "code",
      "source": [
        "x = [0] * 100\n",
        "\n",
        "print(x)"
      ],
      "metadata": {
        "colab": {
          "base_uri": "https://localhost:8080/"
        },
        "id": "Vd2UUgCc7J-P",
        "outputId": "c35ae130-a849-493f-8e99-f9ad59c6759e"
      },
      "execution_count": 57,
      "outputs": [
        {
          "output_type": "stream",
          "name": "stdout",
          "text": [
            "[0, 0, 0, 0, 0, 0, 0, 0, 0, 0, 0, 0, 0, 0, 0, 0, 0, 0, 0, 0, 0, 0, 0, 0, 0, 0, 0, 0, 0, 0, 0, 0, 0, 0, 0, 0, 0, 0, 0, 0, 0, 0, 0, 0, 0, 0, 0, 0, 0, 0, 0, 0, 0, 0, 0, 0, 0, 0, 0, 0, 0, 0, 0, 0, 0, 0, 0, 0, 0, 0, 0, 0, 0, 0, 0, 0, 0, 0, 0, 0, 0, 0, 0, 0, 0, 0, 0, 0, 0, 0, 0, 0, 0, 0, 0, 0, 0, 0, 0, 0]\n"
          ]
        }
      ]
    }
  ]
}