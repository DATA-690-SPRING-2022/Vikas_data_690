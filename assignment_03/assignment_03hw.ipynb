{
  "nbformat": 4,
  "nbformat_minor": 0,
  "metadata": {
    "colab": {
      "name": "assignment_03hw.ipynb",
      "provenance": [],
      "authorship_tag": "ABX9TyMN/fFanxGxcxnp3lQaTBKL",
      "include_colab_link": true
    },
    "kernelspec": {
      "name": "python3",
      "display_name": "Python 3"
    },
    "language_info": {
      "name": "python"
    }
  },
  "cells": [
    {
      "cell_type": "markdown",
      "metadata": {
        "id": "view-in-github",
        "colab_type": "text"
      },
      "source": [
        "<a href=\"https://colab.research.google.com/github/saivikaskondamidi/Vikas_data_690/blob/main/assignment_03/assignment_03hw.ipynb\" target=\"_parent\"><img src=\"https://colab.research.google.com/assets/colab-badge.svg\" alt=\"Open In Colab\"/></a>"
      ]
    },
    {
      "cell_type": "markdown",
      "source": [
        "# Problems\n",
        "\n",
        "**1. Write a program that generates 100 random integers between 0 and 9.**\n",
        "\n",
        "**Print them in a 10 by 10 matrix neatly arranged like the following (one space between each number):**\n"
      ],
      "metadata": {
        "id": "NJk4NdN98Le2"
      }
    },
    {
      "cell_type": "code",
      "source": [
        "import random"
      ],
      "metadata": {
        "id": "vOr8tNWy8r3I"
      },
      "execution_count": 2,
      "outputs": []
    },
    {
      "cell_type": "code",
      "execution_count": 3,
      "metadata": {
        "colab": {
          "base_uri": "https://localhost:8080/"
        },
        "id": "8CnxUjWe75qW",
        "outputId": "92715e87-5149-4891-bb41-193d813a71eb"
      },
      "outputs": [
        {
          "output_type": "stream",
          "name": "stdout",
          "text": [
            "1 9 2 2 6 3 8 3 2 4 \n",
            "2 0 4 5 9 1 2 8 0 9 \n",
            "3 1 4 9 8 8 9 7 0 1 \n",
            "5 1 9 6 1 4 8 0 7 2 \n",
            "1 7 7 2 4 3 9 5 1 6 \n",
            "5 7 7 6 3 0 7 9 4 1 \n",
            "7 2 3 3 1 2 6 8 7 7 \n",
            "5 6 4 2 1 6 1 8 4 9 \n",
            "6 1 9 4 7 8 5 8 0 5 \n",
            "2 6 3 0 2 0 6 1 6 2 \n"
          ]
        }
      ],
      "source": [
        "for i in range(10):\n",
        "  for j in range(10):\n",
        "    print(random.randint(0,9), end = \" \")\n",
        "  print(\"\\n\", end= \"\")"
      ]
    },
    {
      "cell_type": "markdown",
      "source": [
        "**2. Random numbers which are odd , replaced by @**"
      ],
      "metadata": {
        "id": "aozXa3cx84lF"
      }
    },
    {
      "cell_type": "code",
      "source": [
        "for i in range(10):\n",
        "  for j in range(10):\n",
        "    r = random.randint(0,9)\n",
        "    if r % 2 !=0:\n",
        "      print(\"@\", end = \" \")\n",
        "    else:\n",
        "      print(r, end=\" \")\n",
        "  print(\"\\n\", end =\"\")"
      ],
      "metadata": {
        "colab": {
          "base_uri": "https://localhost:8080/"
        },
        "id": "DwJMxmEN83T9",
        "outputId": "3d0beb21-2a38-4826-9760-0945e6ab8d61"
      },
      "execution_count": 14,
      "outputs": [
        {
          "output_type": "stream",
          "name": "stdout",
          "text": [
            "8 @ 2 @ @ @ @ 4 @ @ \n",
            "6 2 @ 2 8 0 4 0 0 @ \n",
            "4 @ 2 8 @ 8 @ 8 @ 4 \n",
            "@ 6 @ 6 @ 2 @ @ @ @ \n",
            "@ 4 4 @ @ @ @ @ 2 8 \n",
            "@ @ @ 2 @ @ 0 @ 6 @ \n",
            "4 6 @ 6 @ 0 @ @ @ 2 \n",
            "6 @ @ @ @ @ 8 @ @ 2 \n",
            "6 6 4 @ 4 4 8 0 @ @ \n",
            "@ @ @ 0 2 @ 6 8 8 0 \n"
          ]
        }
      ]
    },
    {
      "cell_type": "markdown",
      "source": [
        "**3. Total numbers are printed at the end**"
      ],
      "metadata": {
        "id": "x12dQCmL_ed7"
      }
    },
    {
      "cell_type": "code",
      "source": [
        "for i in range(10):\n",
        "  total =0\n",
        "  for j in range(10):\n",
        "    r = random.randint(0,9)\n",
        "    total = total + r\n",
        "    print(r, end=\" \")\n",
        "  print(\"*\", end=\" \")\n",
        "  print(total, end=\" \")\n",
        "  print(\"\\n\", end=\"\")"
      ],
      "metadata": {
        "colab": {
          "base_uri": "https://localhost:8080/"
        },
        "id": "vSgToyrg_e1T",
        "outputId": "a767b021-285e-4018-9a80-1a527b72265c"
      },
      "execution_count": 19,
      "outputs": [
        {
          "output_type": "stream",
          "name": "stdout",
          "text": [
            "8 2 6 4 3 0 4 5 4 1 * 37 \n",
            "0 0 4 1 9 8 9 9 0 6 * 46 \n",
            "0 8 1 8 0 7 5 7 1 7 * 44 \n",
            "1 1 8 7 6 5 2 7 0 9 * 46 \n",
            "8 6 9 4 4 5 2 7 2 8 * 55 \n",
            "2 4 8 6 9 3 6 1 8 7 * 54 \n",
            "3 3 0 1 9 3 6 1 5 0 * 31 \n",
            "0 4 3 0 3 1 0 3 2 6 * 22 \n",
            "6 3 5 0 6 2 5 0 6 1 * 34 \n",
            "9 2 9 3 9 3 9 8 6 8 * 66 \n"
          ]
        }
      ]
    },
    {
      "cell_type": "markdown",
      "source": [
        "**4. Surround the matrix with asterisks (*)**"
      ],
      "metadata": {
        "id": "BWfX7vIoANmb"
      }
    },
    {
      "cell_type": "code",
      "source": [
        "print(\"***********************\")\n",
        "\n",
        "for i in range(10):\n",
        "  print(\"*\", end=\" \")\n",
        "  for j in range(10):\n",
        "    r = random.randint(0,9)\n",
        "    print(r, end=\" \")\n",
        "  print(\"*\")\n",
        "\n",
        "print(\"***********************\")"
      ],
      "metadata": {
        "colab": {
          "base_uri": "https://localhost:8080/"
        },
        "id": "aaa41gnLAgFN",
        "outputId": "104d7d91-d93d-4acd-ef21-9190e1c870bc"
      },
      "execution_count": 42,
      "outputs": [
        {
          "output_type": "stream",
          "name": "stdout",
          "text": [
            "***********************\n",
            "* 7 5 1 9 9 4 7 4 0 5 *\n",
            "* 0 4 6 3 6 5 4 9 0 4 *\n",
            "* 0 5 0 4 2 7 5 3 7 7 *\n",
            "* 5 3 5 4 8 8 2 5 6 3 *\n",
            "* 9 8 8 5 0 6 8 2 2 0 *\n",
            "* 0 6 4 7 8 0 5 6 6 9 *\n",
            "* 3 9 9 6 2 5 9 4 7 2 *\n",
            "* 0 0 8 1 8 3 7 6 6 9 *\n",
            "* 4 3 3 7 4 3 6 6 0 4 *\n",
            "* 6 7 8 2 3 0 5 9 3 0 *\n",
            "***********************\n"
          ]
        }
      ]
    },
    {
      "cell_type": "markdown",
      "source": [
        "**5. Calculate and Print the total of each row and column**"
      ],
      "metadata": {
        "id": "QeDN7KIwD0CR"
      }
    },
    {
      "cell_type": "code",
      "source": [
        "new = [0]*10\n",
        "for i in range(10):\n",
        "  total =0\n",
        "  for j in range(10):\n",
        "    r = random.randint(0,9)\n",
        "    total = total + r\n",
        "    new[j] = new[j] + r\n",
        "    print(r, end=\"  \")\n",
        "  print(\"*\", end=\"  \")\n",
        "  print(total, end=\"  \")\n",
        "  print(\"\\n\", end=\"\")\n",
        "\n",
        "for i in range(10):\n",
        "  print(\"*\", end=\"  \")\n",
        "print(\"\\n\", end=\"\")\n",
        "for j in range(10):\n",
        "  r = random.randint(0,9)\n",
        "  print(new[j], end=\" \")\n",
        "  "
      ],
      "metadata": {
        "colab": {
          "base_uri": "https://localhost:8080/"
        },
        "id": "W2_VRGZxD_Ke",
        "outputId": "db209c00-cc70-4312-ebc2-1a5d35426a48"
      },
      "execution_count": 91,
      "outputs": [
        {
          "output_type": "stream",
          "name": "stdout",
          "text": [
            "8  7  9  9  4  6  4  3  2  5  *  57  \n",
            "4  6  4  7  2  4  5  9  1  5  *  47  \n",
            "9  7  4  6  2  5  3  5  5  2  *  48  \n",
            "7  2  1  4  3  5  3  1  4  1  *  31  \n",
            "4  1  5  6  2  5  9  8  5  6  *  51  \n",
            "1  1  2  1  4  3  7  8  2  0  *  29  \n",
            "7  4  6  2  4  3  0  4  1  7  *  38  \n",
            "2  5  6  1  4  2  0  2  3  6  *  31  \n",
            "8  0  3  8  9  1  2  8  7  0  *  46  \n",
            "3  3  4  0  7  8  7  3  8  3  *  46  \n",
            "*  *  *  *  *  *  *  *  *  *  \n",
            "53 36 44 44 41 42 40 51 38 35 "
          ]
        }
      ]
    }
  ]
}