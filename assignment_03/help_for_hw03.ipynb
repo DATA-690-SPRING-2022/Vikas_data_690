{
  "nbformat": 4,
  "nbformat_minor": 0,
  "metadata": {
    "colab": {
      "name": "help_for_hw03.ipynb",
      "provenance": [],
      "authorship_tag": "ABX9TyMWMHV8qPXIGc7IZOUhIoRn",
      "include_colab_link": true
    },
    "kernelspec": {
      "name": "python3",
      "display_name": "Python 3"
    },
    "language_info": {
      "name": "python"
    }
  },
  "cells": [
    {
      "cell_type": "markdown",
      "metadata": {
        "id": "view-in-github",
        "colab_type": "text"
      },
      "source": [
        "<a href=\"https://colab.research.google.com/github/saivikaskondamidi/Vikas_data_690/blob/main/assignment_03/help_for_hw03.ipynb\" target=\"_parent\"><img src=\"https://colab.research.google.com/assets/colab-badge.svg\" alt=\"Open In Colab\"/></a>"
      ]
    },
    {
      "cell_type": "markdown",
      "source": [
        "# In class Practice"
      ],
      "metadata": {
        "id": "Pl_dfdcx3ICW"
      }
    },
    {
      "cell_type": "code",
      "source": [
        "import random"
      ],
      "metadata": {
        "id": "ffjwyMk00BCU"
      },
      "execution_count": 12,
      "outputs": []
    },
    {
      "cell_type": "code",
      "source": [
        "for a in x:\n",
        "  print(a, end= \" * \")"
      ],
      "metadata": {
        "colab": {
          "base_uri": "https://localhost:8080/"
        },
        "id": "AWNqtUBsyAqA",
        "outputId": "ec789ea4-1bd2-44f8-b6e8-dc1c6719e37a"
      },
      "execution_count": 10,
      "outputs": [
        {
          "output_type": "stream",
          "name": "stdout",
          "text": [
            "2 * 5 * 12 * Sai Vikas * kondamidi * "
          ]
        }
      ]
    },
    {
      "cell_type": "code",
      "execution_count": 1,
      "metadata": {
        "colab": {
          "base_uri": "https://localhost:8080/"
        },
        "id": "CruiGqFmw4DG",
        "outputId": "49702025-0daf-4ba9-f2db-b38abb567b81"
      },
      "outputs": [
        {
          "output_type": "stream",
          "name": "stdout",
          "text": [
            "[2, 5, 12, 'Sai Vikas', 'kondamidi']\n"
          ]
        }
      ],
      "source": [
        "x = [2,5,12,\"Sai Vikas\" , \"kondamidi\"]\n",
        "\n",
        "print(x)"
      ]
    },
    {
      "cell_type": "code",
      "source": [
        "\"5\" in x"
      ],
      "metadata": {
        "colab": {
          "base_uri": "https://localhost:8080/"
        },
        "id": "MrThRGqEx21u",
        "outputId": "69f6c036-e408-4f84-9abc-884631d683ee"
      },
      "execution_count": 3,
      "outputs": [
        {
          "output_type": "execute_result",
          "data": {
            "text/plain": [
              "False"
            ]
          },
          "metadata": {},
          "execution_count": 3
        }
      ]
    },
    {
      "cell_type": "code",
      "source": [
        "5 in x"
      ],
      "metadata": {
        "colab": {
          "base_uri": "https://localhost:8080/"
        },
        "id": "KfMuf4vrx9WC",
        "outputId": "c5f83ad4-fef3-442f-eca1-a3abbfe85012"
      },
      "execution_count": 4,
      "outputs": [
        {
          "output_type": "execute_result",
          "data": {
            "text/plain": [
              "True"
            ]
          },
          "metadata": {},
          "execution_count": 4
        }
      ]
    },
    {
      "cell_type": "code",
      "source": [
        "if 5 in x:\n",
        "  print(\"5 is a member of a list x.\")\n",
        "else:\n",
        "  print(\"5 is not a number\")\n"
      ],
      "metadata": {
        "colab": {
          "base_uri": "https://localhost:8080/"
        },
        "id": "C1Z2zpobxYb0",
        "outputId": "6a6a78c4-81ae-49ea-dd75-e175b3c3dc2b"
      },
      "execution_count": 6,
      "outputs": [
        {
          "output_type": "stream",
          "name": "stdout",
          "text": [
            "5 is a member of a list x.\n"
          ]
        }
      ]
    },
    {
      "cell_type": "code",
      "source": [
        "y = [5,1,5,6,2,7,8,6,4,2]\n",
        "\n",
        "print(y)"
      ],
      "metadata": {
        "colab": {
          "base_uri": "https://localhost:8080/"
        },
        "id": "nLk5sPQhzCrF",
        "outputId": "66f7f3bf-0baa-4be2-f1a1-7480506b3501"
      },
      "execution_count": 8,
      "outputs": [
        {
          "output_type": "stream",
          "name": "stdout",
          "text": [
            "[5, 1, 5, 6, 2, 7, 8, 6, 4, 2]\n"
          ]
        }
      ]
    },
    {
      "cell_type": "code",
      "source": [
        "for b in y:\n",
        "    print(b)"
      ],
      "metadata": {
        "colab": {
          "base_uri": "https://localhost:8080/"
        },
        "id": "V_99m3XlzTgJ",
        "outputId": "d4440a6a-a6e5-4138-b4db-cc4e3bc2a5fc"
      },
      "execution_count": 9,
      "outputs": [
        {
          "output_type": "stream",
          "name": "stdout",
          "text": [
            "5\n",
            "1\n",
            "5\n",
            "6\n",
            "2\n",
            "7\n",
            "8\n",
            "6\n",
            "4\n",
            "2\n"
          ]
        }
      ]
    },
    {
      "cell_type": "code",
      "source": [
        "for b in y:\n",
        "  print(b, end=\" \")"
      ],
      "metadata": {
        "colab": {
          "base_uri": "https://localhost:8080/"
        },
        "id": "5ZO2Lte2zxEv",
        "outputId": "868acfeb-98bc-4fd6-b2a0-d97930c63577"
      },
      "execution_count": 11,
      "outputs": [
        {
          "output_type": "stream",
          "name": "stdout",
          "text": [
            "5 1 5 6 2 7 8 6 4 2 "
          ]
        }
      ]
    },
    {
      "cell_type": "code",
      "source": [
        "random.randint(0,9)"
      ],
      "metadata": {
        "colab": {
          "base_uri": "https://localhost:8080/"
        },
        "id": "TYarV8NG0EJW",
        "outputId": "2cedf323-1de0-4598-ef97-a9fcc31ace00"
      },
      "execution_count": 20,
      "outputs": [
        {
          "output_type": "execute_result",
          "data": {
            "text/plain": [
              "8"
            ]
          },
          "metadata": {},
          "execution_count": 20
        }
      ]
    },
    {
      "cell_type": "code",
      "source": [
        "for i in range(0,9):\n",
        "  print(random.randint(0,9))"
      ],
      "metadata": {
        "colab": {
          "base_uri": "https://localhost:8080/"
        },
        "id": "SF-91fiF0ezO",
        "outputId": "3a86e665-d140-4ac1-d2b5-3a9daddf4e96"
      },
      "execution_count": 23,
      "outputs": [
        {
          "output_type": "stream",
          "name": "stdout",
          "text": [
            "2\n",
            "5\n",
            "6\n",
            "2\n",
            "0\n",
            "5\n",
            "3\n",
            "1\n",
            "2\n"
          ]
        }
      ]
    },
    {
      "cell_type": "code",
      "source": [
        "for i in range(10):\n",
        "  print(random.randint(0,9), end = \" \")"
      ],
      "metadata": {
        "colab": {
          "base_uri": "https://localhost:8080/"
        },
        "id": "5IwIXmP41QgK",
        "outputId": "61554587-9713-4af4-de31-10fa7fc90e92"
      },
      "execution_count": 26,
      "outputs": [
        {
          "output_type": "stream",
          "name": "stdout",
          "text": [
            "7 0 9 8 5 8 7 3 4 9 "
          ]
        }
      ]
    },
    {
      "cell_type": "code",
      "source": [
        "for j in range(10):\n",
        "  for i in range(10):\n",
        "    print(random.randint(0,9), end = \" \")"
      ],
      "metadata": {
        "colab": {
          "base_uri": "https://localhost:8080/"
        },
        "id": "uV1UATtk1hfA",
        "outputId": "62240c56-eb9c-4b43-fdfd-535f444950fc"
      },
      "execution_count": 28,
      "outputs": [
        {
          "output_type": "stream",
          "name": "stdout",
          "text": [
            "4 1 9 4 9 0 9 4 0 6 8 0 4 4 5 8 8 6 0 5 9 4 3 9 6 8 7 5 7 1 6 1 1 5 4 5 3 9 5 4 6 2 4 0 7 6 4 8 4 5 3 3 6 9 0 1 2 3 2 1 8 3 4 5 7 1 6 1 1 1 1 2 1 2 0 2 2 0 4 8 7 9 3 1 7 6 8 6 3 8 7 4 9 7 7 0 7 0 7 4 "
          ]
        }
      ]
    },
    {
      "cell_type": "code",
      "source": [
        "for j in range(10):\n",
        "  for i in range(10):\n",
        "    print(random.randint(0,9), end = \" \")\n",
        "  print(\"\")"
      ],
      "metadata": {
        "colab": {
          "base_uri": "https://localhost:8080/"
        },
        "id": "tLXdZNzK2N_e",
        "outputId": "0ab741b0-040f-4200-8250-f95c416813fc"
      },
      "execution_count": 32,
      "outputs": [
        {
          "output_type": "stream",
          "name": "stdout",
          "text": [
            "7 6 8 2 0 5 7 8 3 6 \n",
            "2 3 9 9 3 9 2 3 2 5 \n",
            "4 7 3 1 5 9 8 9 2 1 \n",
            "1 5 5 4 8 5 1 0 2 4 \n",
            "8 7 4 2 6 7 8 2 8 4 \n",
            "3 9 7 3 6 0 8 0 9 2 \n",
            "6 9 3 4 8 7 7 1 7 9 \n",
            "0 3 9 6 5 0 0 8 7 6 \n",
            "5 5 0 4 4 8 9 5 0 4 \n",
            "3 2 8 6 4 2 5 6 4 4 \n"
          ]
        }
      ]
    },
    {
      "cell_type": "code",
      "source": [
        "for j in range(10):\n",
        "  for i in range(10):\n",
        "    print(random.randint(0,9), end = \" \")\n",
        "  print(\"\\n\", end= \"\")"
      ],
      "metadata": {
        "colab": {
          "base_uri": "https://localhost:8080/"
        },
        "id": "mj0eLtjd2n_0",
        "outputId": "5aad7700-c9f8-4fa4-f2dd-ce9947ea286f"
      },
      "execution_count": 33,
      "outputs": [
        {
          "output_type": "stream",
          "name": "stdout",
          "text": [
            "8 1 4 6 6 5 9 9 9 9 \n",
            "1 1 5 5 8 9 6 7 7 0 \n",
            "9 6 1 2 1 7 9 7 2 4 \n",
            "7 3 3 8 6 3 4 9 4 3 \n",
            "6 2 6 7 6 6 1 1 1 1 \n",
            "0 8 4 9 7 3 2 3 7 9 \n",
            "2 6 6 3 6 9 4 3 8 9 \n",
            "0 3 6 4 8 7 2 7 1 6 \n",
            "9 3 7 4 9 3 4 0 2 6 \n",
            "4 4 4 2 3 6 5 5 0 3 \n"
          ]
        }
      ]
    }
  ]
}