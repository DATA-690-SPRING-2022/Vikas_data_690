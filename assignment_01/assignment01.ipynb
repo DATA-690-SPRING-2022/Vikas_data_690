{
  "nbformat": 4,
  "nbformat_minor": 0,
  "metadata": {
    "colab": {
      "name": "assignment01.ipynb",
      "provenance": [],
      "authorship_tag": "ABX9TyMG+ndQ5CD0GiQLZF3OnTx2",
      "include_colab_link": true
    },
    "kernelspec": {
      "name": "python3",
      "display_name": "Python 3"
    },
    "language_info": {
      "name": "python"
    }
  },
  "cells": [
    {
      "cell_type": "markdown",
      "metadata": {
        "id": "view-in-github",
        "colab_type": "text"
      },
      "source": [
        "<a href=\"https://colab.research.google.com/github/saivikaskondamidi/Vikas_data_690/blob/main/assignment_01/assignment01.ipynb\" target=\"_parent\"><img src=\"https://colab.research.google.com/assets/colab-badge.svg\" alt=\"Open In Colab\"/></a>"
      ]
    },
    {
      "cell_type": "code",
      "execution_count": null,
      "metadata": {
        "id": "Pg2XmwM3E_H6"
      },
      "outputs": [],
      "source": [
        "1 "
      ]
    },
    {
      "cell_type": "markdown",
      "source": [
        "# data 690 In-class Practice\n",
        "\n",
        "- Name: **Sai Vikas**\n",
        "\n",
        "- Date: 01/31/2022\n",
        "\n",
        "- Session: **01**"
      ],
      "metadata": {
        "id": "XhUimge7FWhr"
      }
    },
    {
      "cell_type": "code",
      "source": [
        "print(\"hello vikas\")"
      ],
      "metadata": {
        "colab": {
          "base_uri": "https://localhost:8080/"
        },
        "id": "N1FN_sp8F-mz",
        "outputId": "94e51664-d5d5-4d0c-92d1-524d7df155f2"
      },
      "execution_count": 2,
      "outputs": [
        {
          "output_type": "stream",
          "name": "stdout",
          "text": [
            "hello vikas\n"
          ]
        }
      ]
    },
    {
      "cell_type": "code",
      "source": [
        "x=10\n",
        "y=20\n",
        "z=x+y\n",
        "print(\"z =\",z)"
      ],
      "metadata": {
        "colab": {
          "base_uri": "https://localhost:8080/"
        },
        "id": "rs_F_ihkGRS4",
        "outputId": "1d66d252-48e4-4461-fde9-e485c37c4fbd"
      },
      "execution_count": 4,
      "outputs": [
        {
          "output_type": "stream",
          "name": "stdout",
          "text": [
            "z = 30\n"
          ]
        }
      ]
    }
  ]
}